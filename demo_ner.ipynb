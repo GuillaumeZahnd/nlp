{
 "cells": [
  {
   "cell_type": "code",
   "execution_count": null,
   "id": "fd8ea4a6-c6ce-4869-91bc-a1963ace9d14",
   "metadata": {},
   "outputs": [],
   "source": [
    "import os\n",
    "import tensorflow_datasets as tfds\n",
    "import datasets\n",
    "from transformers import AutoTokenizer\n",
    "from transformers import AutoModelForTokenClassification\n",
    "from transformers import TrainingArguments\n",
    "from transformers import Trainer\n",
    "from transformers import DataCollatorForTokenClassification\n",
    "from transformers import pipeline\n",
    "import evaluate\n",
    "import numpy as np"
   ]
  },
  {
   "cell_type": "code",
   "execution_count": null,
   "id": "c5ee971b-df77-4832-9f23-f3e63b6c063a",
   "metadata": {},
   "outputs": [],
   "source": [
    "from utils_display import pc"
   ]
  },
  {
   "cell_type": "code",
   "execution_count": null,
   "id": "2ecea334-f646-4e49-9447-c5f8832a04fb",
   "metadata": {},
   "outputs": [],
   "source": [
    "seqeval = evaluate.load(\"seqeval\")"
   ]
  },
  {
   "cell_type": "markdown",
   "id": "33c83ce7-3733-4a91-962b-0b0478c8c98a",
   "metadata": {},
   "source": [
    "# conll2003 dataset"
   ]
  },
  {
   "cell_type": "code",
   "execution_count": null,
   "id": "1e66755a-a6b2-4dcc-83ba-5b8eff2fb74f",
   "metadata": {},
   "outputs": [],
   "source": [
    "path_to_conll2003_dataset = os.path.join(\"local_datasets\", \"conll2003\")\n",
    "dataset_train = datasets.load_from_disk(os.path.join(path_to_conll2003_dataset, \"train.hf\"))\n",
    "dataset_test = datasets.load_from_disk(os.path.join(path_to_conll2003_dataset, \"test.hf\"))"
   ]
  },
  {
   "cell_type": "code",
   "execution_count": null,
   "id": "0b956fca-2e79-4613-b3cb-ff846443b2bf",
   "metadata": {},
   "outputs": [],
   "source": [
    "sample_index = 2"
   ]
  },
  {
   "cell_type": "code",
   "execution_count": null,
   "id": "874caa60-de65-4ce2-b7c5-1dbd03d180f2",
   "metadata": {},
   "outputs": [],
   "source": [
    "pos_tags2indices = {\n",
    "    '\"': 0, \"''\": 1, '#': 2, '$': 3, '(': 4, ')': 5, ',': 6, '.': 7, ':': 8, '``': 9, 'CC': 10, 'CD': 11, 'DT': 12,\n",
    "    'EX': 13, 'FW': 14, 'IN': 15, 'JJ': 16, 'JJR': 17, 'JJS': 18, 'LS': 19, 'MD': 20, 'NN': 21, 'NNP': 22, 'NNPS': 23,\n",
    "    'NNS': 24, 'NN|SYM': 25, 'PDT': 26, 'POS': 27, 'PRP': 28, 'PRP$': 29, 'RB': 30, 'RBR': 31, 'RBS': 32, 'RP': 33,\n",
    "    'SYM': 34, 'TO': 35, 'UH': 36, 'VB': 37, 'VBD': 38, 'VBG': 39, 'VBN': 40, 'VBP': 41, 'VBZ': 42, 'WDT': 43,\n",
    "    'WP': 44, 'WP$': 45, 'WRB': 46\n",
    "}\n",
    "\n",
    "chunk_tags2indices = {\n",
    "    'O': 0, 'B-ADJP': 1, 'I-ADJP': 2, 'B-ADVP': 3, 'I-ADVP': 4, 'B-CONJP': 5, 'I-CONJP': 6, 'B-INTJ': 7, 'I-INTJ': 8,\n",
    "    'B-LST': 9, 'I-LST': 10, 'B-NP': 11, 'I-NP': 12, 'B-PP': 13, 'I-PP': 14, 'B-PRT': 15, 'I-PRT': 16, 'B-SBAR': 17,\n",
    "    'I-SBAR': 18, 'B-UCP': 19, 'I-UCP': 20, 'B-VP': 21, 'I-VP': 22\n",
    "}\n",
    "\n",
    "ner_tags2indices = {\n",
    "    'O': 0, 'B-PER': 1, 'I-PER': 2, 'B-ORG': 3, 'I-ORG': 4, 'B-LOC': 5, 'I-LOC': 6, 'B-MISC': 7, 'I-MISC': 8\n",
    "}"
   ]
  },
  {
   "cell_type": "code",
   "execution_count": null,
   "id": "010c8db5-28fe-4ef1-b42f-824e5d4b00da",
   "metadata": {},
   "outputs": [],
   "source": [
    "number_of_pos_tags = len(pos_tags2indices)\n",
    "number_of_chunks_tags = len(chunk_tags2indices)\n",
    "number_of_ner_tags = len(ner_tags2indices)"
   ]
  },
  {
   "cell_type": "code",
   "execution_count": null,
   "id": "3a7f2f36-618b-4f0d-8544-8c0e96cb73c7",
   "metadata": {},
   "outputs": [],
   "source": [
    "def create_dico_indices2tags(dico_tags2indices: dict) -> dict:\n",
    "    dico_indices2tags = dict()\n",
    "    for key in dico_tags2indices:\n",
    "        dico_indices2tags[dico_tags2indices[key]] = key\n",
    "    return dico_indices2tags"
   ]
  },
  {
   "cell_type": "code",
   "execution_count": null,
   "id": "0c76f02c-fdab-4fc0-ae0c-7ab3e481948c",
   "metadata": {},
   "outputs": [],
   "source": [
    "pos_indices2tags = create_dico_indices2tags(dico_tags2indices=pos_tags2indices)\n",
    "chunk_indices2tags = create_dico_indices2tags(dico_tags2indices=chunk_tags2indices)\n",
    "ner_indices2tags = create_dico_indices2tags(dico_tags2indices=ner_tags2indices)"
   ]
  },
  {
   "cell_type": "code",
   "execution_count": null,
   "id": "5519bf17-6609-4390-8dbf-f05daf8fcfbe",
   "metadata": {},
   "outputs": [],
   "source": [
    "def print_sample(sample) -> None:\n",
    "\n",
    "    print(\"-\"*74)\n",
    "    print(\"{:<4} | {:<20} | {:<3} {:<10} | {:<3} {:<10} | {:<3} {:<10}\".format(\n",
    "        \"INDEX\", \"TOKEN\", \"\", \"POS\", \"\", \"CHUNK\", \"\", \"NER\"))\n",
    "    print(\"-\"*74)\n",
    "    for index in range(len(sample[\"tokens\"])):\n",
    "        \n",
    "        pos_index = sample[\"pos\"][index]\n",
    "        pos_tag = pos_indices2tags[pos_index]\n",
    "    \n",
    "        chunk_index = sample[\"chunks\"][index]\n",
    "        chunk_tag = chunk_indices2tags[chunk_index]\n",
    "    \n",
    "        ner_index = sample[\"ner\"][index]\n",
    "        ner_tag = ner_indices2tags[ner_index]    \n",
    "        \n",
    "        print(\"{:<5} | {:<20} | {:<3} {:<10} | {:<3} {:<10} | {:<3} {:<10}\".format(\n",
    "            index,\n",
    "            sample[\"tokens\"][index],\n",
    "            pos_index,\n",
    "            pos_tag,\n",
    "            chunk_index,\n",
    "            chunk_tag,\n",
    "            ner_index,\n",
    "            ner_tag\n",
    "        ))    \n",
    "    print(\"-\"*74)"
   ]
  },
  {
   "cell_type": "code",
   "execution_count": null,
   "id": "bdddb600-a9d7-4008-b8ae-25037b9a0e9e",
   "metadata": {},
   "outputs": [],
   "source": [
    "pc(\"Sample index\", sample_index, break_line=True)\n",
    "\n",
    "sample = dataset_train[sample_index]\n",
    "for key in sample.keys():\n",
    "    pc(key, sample[key])\n",
    "print_sample(sample=sample)"
   ]
  },
  {
   "cell_type": "markdown",
   "id": "59383dbb-ed2b-43b3-992a-1c49d979711c",
   "metadata": {},
   "source": [
    "# BERT model"
   ]
  },
  {
   "cell_type": "code",
   "execution_count": null,
   "id": "97b00515-3b10-4747-be00-feda17b274e1",
   "metadata": {},
   "outputs": [],
   "source": [
    "model_checkpoint = 'bert-base-uncased'"
   ]
  },
  {
   "cell_type": "code",
   "execution_count": null,
   "id": "96021cbb-e577-495b-976c-0c08316331b0",
   "metadata": {},
   "outputs": [],
   "source": [
    "tokenizer = AutoTokenizer.from_pretrained(model_checkpoint)"
   ]
  },
  {
   "cell_type": "code",
   "execution_count": null,
   "id": "d928728f-5048-4ded-8399-d9f7088ec56a",
   "metadata": {},
   "outputs": [],
   "source": [
    "def tokenize_and_align_labels(examples):\n",
    "    label_all_tokens = True\n",
    "    tokenized_inputs = tokenizer(examples[\"tokens\"], truncation=True, is_split_into_words=True)    \n",
    "    labels = []\n",
    "    for i, label in enumerate(examples[\"ner\"]):\n",
    "        word_ids = tokenized_inputs.word_ids(batch_index=i)\n",
    "        previous_word_idx = None\n",
    "        label_ids = []\n",
    "        for word_idx in word_ids:\n",
    "            # Special tokens have a word id that is None. We set the label to -100 so they are automatically\n",
    "            # ignored in the loss function.\n",
    "            if word_idx is None:\n",
    "                label_ids.append(-100)\n",
    "            # We set the label for the first token of each word.\n",
    "            elif word_idx != previous_word_idx:\n",
    "                label_ids.append(label[word_idx])\n",
    "            # For the other tokens in a word, we set the label to either the current label or -100, depending on\n",
    "            # the label_all_tokens flag.\n",
    "            else:\n",
    "                label_ids.append(label[word_idx] if label_all_tokens else -100)\n",
    "            previous_word_idx = word_idx\n",
    "\n",
    "        labels.append(label_ids)\n",
    "\n",
    "    tokenized_inputs[\"labels\"] = labels\n",
    "    return tokenized_inputs"
   ]
  },
  {
   "cell_type": "code",
   "execution_count": null,
   "id": "0a4867e2-9135-4829-be5e-aafef8cfd405",
   "metadata": {},
   "outputs": [],
   "source": [
    "tokenize_and_align_labels(dataset_train[2:3])"
   ]
  },
  {
   "cell_type": "code",
   "execution_count": null,
   "id": "4ca46600-d8e5-46a0-bb48-efc968c55b62",
   "metadata": {},
   "outputs": [],
   "source": [
    "def tokenize_dataset(dataset):\n",
    "    return dataset.map(\n",
    "        tokenize_and_align_labels,        \n",
    "        batched=True,\n",
    "        #remove_columns=dataset.column_names\n",
    "    ) "
   ]
  },
  {
   "cell_type": "code",
   "execution_count": null,
   "id": "454c4d27-e35d-40cc-ac99-9bb757f1f864",
   "metadata": {},
   "outputs": [],
   "source": [
    "tokenized_dataset_train = tokenize_dataset(dataset_train)\n",
    "tokenized_dataset_test = tokenize_dataset(dataset_test)"
   ]
  },
  {
   "cell_type": "code",
   "execution_count": null,
   "id": "f93eb0e6-e9eb-404d-bd61-c0c61b6b0b97",
   "metadata": {},
   "outputs": [],
   "source": [
    "sample = dataset_train[sample_index]\n",
    "\n",
    "sample_tokens = sample[\"tokens\"]\n",
    "number_of_sample_tokens = len(sample_tokens)\n",
    "\n",
    "pc(\"Sample tokens\", sample_tokens)\n",
    "pc(\"Number of sample tokens\", number_of_sample_tokens, break_line=True)\n",
    "\n",
    "sample_input_ids = tokenized_dataset_train[sample_index][\"input_ids\"]\n",
    "number_of_sample_input_ids = len(sample_input_ids)\n",
    "\n",
    "pc(\"Input ids\", sample_input_ids)\n",
    "pc(\"Number of input ids\", number_of_sample_input_ids, break_line=True)\n",
    "\n",
    "tokenized_sample_input = tokenizer(sample_tokens, is_split_into_words=True)\n",
    "word_indices = tokenized_sample_input.word_ids()\n",
    "number_of_word_indices = len(word_indices)\n",
    "\n",
    "pc(\"Word indices\", word_indices)\n",
    "pc(\"Number of word indices\", number_of_word_indices, break_line=True)\n",
    "\n",
    "\n",
    "sample_labels_aligned = tokenized_dataset_train[sample_index][\"labels\"]\n",
    "number_of_sample_labels_aligned = len(sample_labels_aligned)\n",
    "\n",
    "pc(\"Aligned labels\", sample_labels_aligned)\n",
    "pc(\"Number of aligned labels\", number_of_sample_labels_aligned, break_line=True)\n",
    "\n",
    "for s in range(number_of_sample_tokens):\n",
    "    w = np.asarray([i for i, j in enumerate(word_indices) if j == s])\n",
    "    xsample_token = sample_tokens[s]\n",
    "    xword_indices = [word_indices[k] for k in w]\n",
    "    xsample_input_ids = [sample_input_ids[k] for k in w]\n",
    "    xsample_labels_aligned = [sample_labels_aligned[k] for k in w]\n",
    "    print(\"{} {:<3} {}, {}, {}\".format(s, xsample_token, xword_indices, xsample_input_ids, xsample_labels_aligned))\n"
   ]
  },
  {
   "cell_type": "code",
   "execution_count": null,
   "id": "1627493d-ce4e-4e6f-b5ea-3d2d40da54ca",
   "metadata": {},
   "outputs": [],
   "source": [
    "pc(\"Sample index\", sample_index, break_line=True)\n",
    "print(dataset_train[sample_index])\n",
    "for key in tokenized_dataset_train[sample_index].keys():\n",
    "    pc(key, tokenized_dataset_train[sample_index][key])"
   ]
  },
  {
   "cell_type": "code",
   "execution_count": null,
   "id": "0c7029fe-3dda-4436-a11b-2498a63c5998",
   "metadata": {},
   "outputs": [],
   "source": [
    "print(tokenizer.decode(tokenized_dataset_train[sample_index][\"input_ids\"]))"
   ]
  },
  {
   "cell_type": "code",
   "execution_count": null,
   "id": "ebd7d930-d6f5-4d1f-98e0-c8458a590677",
   "metadata": {},
   "outputs": [],
   "source": [
    "model = AutoModelForTokenClassification.from_pretrained(\n",
    "    pretrained_model_name_or_path=model_checkpoint,\n",
    "    num_labels=number_of_ner_tags,\n",
    "    id2label=ner_indices2tags,\n",
    "    label2id=ner_tags2indices,\n",
    ")"
   ]
  },
  {
   "cell_type": "code",
   "execution_count": null,
   "id": "abed0e80-ea9e-4b0b-8242-15767cc3be30",
   "metadata": {},
   "outputs": [],
   "source": [
    "args = TrainingArguments(\n",
    "    \"bert-finetuned-ner\",\n",
    "    eval_strategy=\"epoch\",\n",
    "    logging_strategy=\"epoch\",\n",
    "    save_strategy=\"epoch\",\n",
    "    learning_rate=1e-3,\n",
    "    num_train_epochs=5,\n",
    "    weight_decay=0.01,\n",
    "    per_device_train_batch_size=8,\n",
    "    per_device_eval_batch_size=8,\n",
    "    report_to=\"wandb\"    \n",
    ")"
   ]
  },
  {
   "cell_type": "code",
   "execution_count": null,
   "id": "0784cd71-a27a-4614-9076-1fd2be087f56",
   "metadata": {},
   "outputs": [],
   "source": [
    "def compute_metrics(p):\n",
    "    predictions, labels = p\n",
    "    predictions = np.argmax(predictions, axis=2)\n",
    "\n",
    "    true_predictions = [\n",
    "        [label_list[p] for (p, l) in zip(prediction, label) if l != -100]\n",
    "        for prediction, label in zip(predictions, labels)\n",
    "    ]\n",
    "\n",
    "    true_labels = [\n",
    "        [label_list[l] for (p, l) in zip(prediction, label) if l != -100]\n",
    "        for prediction, label in zip(predictions, labels)\n",
    "    ]\n",
    "\n",
    "    results = seqeval.compute(predictions=true_predictions, references=true_labels)\n",
    "\n",
    "    return {\n",
    "        \"precision\": results[\"overall_precision\"],\n",
    "        \"recall\": results[\"overall_recall\"],\n",
    "        \"f1\": results[\"overall_f1\"],\n",
    "        \"accuracy\": results[\"overall_accuracy\"],\n",
    "    }"
   ]
  },
  {
   "cell_type": "code",
   "execution_count": null,
   "id": "9ef5d883-f20e-4cf3-8e75-1cae4b402515",
   "metadata": {},
   "outputs": [],
   "source": [
    "data_collator = DataCollatorForTokenClassification(tokenizer=tokenizer)"
   ]
  },
  {
   "cell_type": "code",
   "execution_count": null,
   "id": "f1b7511f-82b7-4334-9c1b-9571d5c89731",
   "metadata": {},
   "outputs": [],
   "source": [
    "trainer = Trainer(\n",
    "    model=model,\n",
    "    args=args,\n",
    "    train_dataset=tokenized_dataset_train,\n",
    "    eval_dataset=tokenized_dataset_test,\n",
    "    data_collator=data_collator,\n",
    "    compute_metrics=compute_metrics,\n",
    "    processing_class=tokenizer,\n",
    ")"
   ]
  },
  {
   "cell_type": "code",
   "execution_count": null,
   "id": "9ce2c4ac-018d-49ad-ab02-5a30f2632c5f",
   "metadata": {},
   "outputs": [],
   "source": [
    "trainer.train()"
   ]
  },
  {
   "cell_type": "markdown",
   "id": "d71acf75-d887-4614-a3e8-528e894e62a1",
   "metadata": {},
   "source": [
    "# Evaluation"
   ]
  },
  {
   "cell_type": "code",
   "execution_count": null,
   "id": "17c5e6ef-413f-4816-99be-6588c31c9452",
   "metadata": {},
   "outputs": [],
   "source": [
    "nlp = pipeline(\"ner\", model=model, tokenizer=tokenizer, aggregation_strategy=\"first\")"
   ]
  },
  {
   "cell_type": "code",
   "execution_count": null,
   "id": "1f2ee256-586e-4946-9602-1206eae1f795",
   "metadata": {},
   "outputs": [],
   "source": [
    "text = \"She then related that, by the permission of Elizabeth, she had passed the evening of the night on which the murder had been committed at the house of an aunt at Chene, a village situated at about a league from Geneva.\""
   ]
  },
  {
   "cell_type": "code",
   "execution_count": null,
   "id": "234a8c94-4726-40cf-a484-5608c46114f7",
   "metadata": {},
   "outputs": [],
   "source": [
    "text_tokenized = tokenizer.tokenize(text)"
   ]
  },
  {
   "cell_type": "code",
   "execution_count": null,
   "id": "d5c3208d-44a5-44ab-81b1-ecb38938d49a",
   "metadata": {},
   "outputs": [],
   "source": [
    "text_ner = nlp(text_tokenized)"
   ]
  },
  {
   "cell_type": "code",
   "execution_count": null,
   "id": "8eab1cbf-9e3e-4aef-9b60-fa4fe0511769",
   "metadata": {},
   "outputs": [],
   "source": [
    "pc(\"Text\", text)\n",
    "pc(\"Tokenized text\", text_tokenized)\n",
    "pc(\"NER\", text_ner)"
   ]
  },
  {
   "cell_type": "code",
   "execution_count": null,
   "id": "274fbfba-097c-4a88-a92d-0efd1f7dac35",
   "metadata": {},
   "outputs": [],
   "source": []
  }
 ],
 "metadata": {
  "kernelspec": {
   "display_name": "Python 3 (ipykernel)",
   "language": "python",
   "name": "python3"
  },
  "language_info": {
   "codemirror_mode": {
    "name": "ipython",
    "version": 3
   },
   "file_extension": ".py",
   "mimetype": "text/x-python",
   "name": "python",
   "nbconvert_exporter": "python",
   "pygments_lexer": "ipython3",
   "version": "3.10.12"
  }
 },
 "nbformat": 4,
 "nbformat_minor": 5
}
