{
 "cells": [
  {
   "cell_type": "code",
   "execution_count": 20,
   "id": "fd8ea4a6-c6ce-4869-91bc-a1963ace9d14",
   "metadata": {},
   "outputs": [],
   "source": [
    "import os\n",
    "import tensorflow_datasets as tfds\n",
    "import datasets\n",
    "from transformers import AutoTokenizer\n",
    "\n",
    "from utils_display import pc"
   ]
  },
  {
   "cell_type": "markdown",
   "id": "33c83ce7-3733-4a91-962b-0b0478c8c98a",
   "metadata": {},
   "source": [
    "# conll2003 dataset"
   ]
  },
  {
   "cell_type": "code",
   "execution_count": 26,
   "id": "1e66755a-a6b2-4dcc-83ba-5b8eff2fb74f",
   "metadata": {},
   "outputs": [],
   "source": [
    "path_to_conll2003_dataset = os.path.join(\"local_datasets\", \"conll2003\")\n",
    "dataset_train = datasets.load_from_disk(os.path.join(path_to_conll2003_dataset, \"train.hf\"))"
   ]
  },
  {
   "cell_type": "code",
   "execution_count": 3,
   "id": "874caa60-de65-4ce2-b7c5-1dbd03d180f2",
   "metadata": {},
   "outputs": [],
   "source": [
    "pos_tags2indices = {\n",
    "    '\"': 0, \"''\": 1, '#': 2, '$': 3, '(': 4, ')': 5, ',': 6, '.': 7, ':': 8, '``': 9, 'CC': 10, 'CD': 11, 'DT': 12,\n",
    "    'EX': 13, 'FW': 14, 'IN': 15, 'JJ': 16, 'JJR': 17, 'JJS': 18, 'LS': 19, 'MD': 20, 'NN': 21, 'NNP': 22, 'NNPS': 23,\n",
    "    'NNS': 24, 'NN|SYM': 25, 'PDT': 26, 'POS': 27, 'PRP': 28, 'PRP$': 29, 'RB': 30, 'RBR': 31, 'RBS': 32, 'RP': 33,\n",
    "    'SYM': 34, 'TO': 35, 'UH': 36, 'VB': 37, 'VBD': 38, 'VBG': 39, 'VBN': 40, 'VBP': 41, 'VBZ': 42, 'WDT': 43,\n",
    "    'WP': 44, 'WP$': 45, 'WRB': 46\n",
    "}\n",
    "\n",
    "chunk_tags2indices = {\n",
    "    'O': 0, 'B-ADJP': 1, 'I-ADJP': 2, 'B-ADVP': 3, 'I-ADVP': 4, 'B-CONJP': 5, 'I-CONJP': 6, 'B-INTJ': 7, 'I-INTJ': 8,\n",
    "    'B-LST': 9, 'I-LST': 10, 'B-NP': 11, 'I-NP': 12, 'B-PP': 13, 'I-PP': 14, 'B-PRT': 15, 'I-PRT': 16, 'B-SBAR': 17,\n",
    "    'I-SBAR': 18, 'B-UCP': 19, 'I-UCP': 20, 'B-VP': 21, 'I-VP': 22\n",
    "}\n",
    "\n",
    "ner_tags2indices = {\n",
    "    'O': 0, 'B-PER': 1, 'I-PER': 2, 'B-ORG': 3, 'I-ORG': 4, 'B-LOC': 5, 'I-LOC': 6, 'B-MISC': 7, 'I-MISC': 8\n",
    "}"
   ]
  },
  {
   "cell_type": "code",
   "execution_count": 4,
   "id": "3a7f2f36-618b-4f0d-8544-8c0e96cb73c7",
   "metadata": {},
   "outputs": [],
   "source": [
    "def create_dico_indices2tags(dico_tags2indices: dict) -> dict:\n",
    "    dico_indices2tags = dict()\n",
    "    for key in dico_tags2indices:\n",
    "        dico_indices2tags[dico_tags2indices[key]] = key\n",
    "    return dico_indices2tags"
   ]
  },
  {
   "cell_type": "code",
   "execution_count": 5,
   "id": "0c76f02c-fdab-4fc0-ae0c-7ab3e481948c",
   "metadata": {},
   "outputs": [],
   "source": [
    "pos_indices2tags = create_dico_indices2tags(dico_tags2indices=pos_tags2indices)\n",
    "chunk_indices2tags = create_dico_indices2tags(dico_tags2indices=chunk_tags2indices)\n",
    "ner_indices2tags = create_dico_indices2tags(dico_tags2indices=ner_tags2indices)"
   ]
  },
  {
   "cell_type": "code",
   "execution_count": 10,
   "id": "5519bf17-6609-4390-8dbf-f05daf8fcfbe",
   "metadata": {},
   "outputs": [],
   "source": [
    "def print_sample(sample) -> None:\n",
    "\n",
    "    print(\"-\"*74)\n",
    "    print(\"{:<4} | {:<20} | {:<3} {:<10} | {:<3} {:<10} | {:<3} {:<10}\".format(\n",
    "        \"INDEX\", \"TOKEN\", \"\", \"POS\", \"\", \"CHUNK\", \"\", \"NER\"))\n",
    "    print(\"-\"*74)\n",
    "    for index in range(len(sample[\"tokens\"])):\n",
    "        \n",
    "        pos_index = sample[\"pos\"][index]\n",
    "        pos_tag = pos_indices2tags[pos_index]\n",
    "    \n",
    "        chunk_index = sample[\"chunks\"][index]\n",
    "        chunk_tag = chunk_indices2tags[chunk_index]\n",
    "    \n",
    "        ner_index = sample[\"ner\"][index]\n",
    "        ner_tag = ner_indices2tags[ner_index]    \n",
    "        \n",
    "        print(\"{:<5} | {:<20} | {:<3} {:<10} | {:<3} {:<10} | {:<3} {:<10}\".format(\n",
    "            index,\n",
    "            sample[\"tokens\"][index],\n",
    "            pos_index,\n",
    "            pos_tag,\n",
    "            chunk_index,\n",
    "            chunk_tag,\n",
    "            ner_index,\n",
    "            ner_tag\n",
    "        ))    \n",
    "    print(\"-\"*74)"
   ]
  },
  {
   "cell_type": "code",
   "execution_count": 37,
   "id": "bdddb600-a9d7-4008-b8ae-25037b9a0e9e",
   "metadata": {},
   "outputs": [
    {
     "name": "stdout",
     "output_type": "stream",
     "text": [
      "\u001b[34mSample index\u001b[0m: 245\n",
      "\n",
      "\u001b[34mindex\u001b[0m: 245\n",
      "\u001b[34mpos\u001b[0m: [22, 38, 12, 21, 15, 12, 16, 21, 35, 37, 22, 38, 40, 12, 16, 21, 15, 12, 16, 21, 10, 30, 22, 27, 21, 7]\n",
      "\u001b[34mchunks\u001b[0m: [11, 21, 11, 12, 13, 11, 12, 12, 21, 22, 11, 21, 22, 11, 12, 12, 13, 11, 12, 12, 0, 0, 11, 11, 12, 0]\n",
      "\u001b[34mner\u001b[0m: [1, 0, 0, 0, 0, 0, 0, 0, 0, 0, 5, 0, 0, 0, 0, 0, 0, 0, 0, 0, 0, 0, 5, 0, 0, 0]\n",
      "\u001b[34mtokens\u001b[0m: ['Ischinger', 'said', 'the', 'threat', 'of', 'a', 'major', 'assault', 'to', 'take', 'Grozny', 'had', 'been', 'the', 'unauthorised', 'initiative', 'of', 'the', 'commanding', 'general', 'and', 'not', 'Moscow', \"'s\", 'intention', '.']\n",
      "--------------------------------------------------------------------------\n",
      "INDEX | TOKEN                |     POS        |     CHUNK      |     NER       \n",
      "--------------------------------------------------------------------------\n",
      "0     | Ischinger            | 22  NNP        | 11  B-NP       | 1   B-PER     \n",
      "1     | said                 | 38  VBD        | 21  B-VP       | 0   O         \n",
      "2     | the                  | 12  DT         | 11  B-NP       | 0   O         \n",
      "3     | threat               | 21  NN         | 12  I-NP       | 0   O         \n",
      "4     | of                   | 15  IN         | 13  B-PP       | 0   O         \n",
      "5     | a                    | 12  DT         | 11  B-NP       | 0   O         \n",
      "6     | major                | 16  JJ         | 12  I-NP       | 0   O         \n",
      "7     | assault              | 21  NN         | 12  I-NP       | 0   O         \n",
      "8     | to                   | 35  TO         | 21  B-VP       | 0   O         \n",
      "9     | take                 | 37  VB         | 22  I-VP       | 0   O         \n",
      "10    | Grozny               | 22  NNP        | 11  B-NP       | 5   B-LOC     \n",
      "11    | had                  | 38  VBD        | 21  B-VP       | 0   O         \n",
      "12    | been                 | 40  VBN        | 22  I-VP       | 0   O         \n",
      "13    | the                  | 12  DT         | 11  B-NP       | 0   O         \n",
      "14    | unauthorised         | 16  JJ         | 12  I-NP       | 0   O         \n",
      "15    | initiative           | 21  NN         | 12  I-NP       | 0   O         \n",
      "16    | of                   | 15  IN         | 13  B-PP       | 0   O         \n",
      "17    | the                  | 12  DT         | 11  B-NP       | 0   O         \n",
      "18    | commanding           | 16  JJ         | 12  I-NP       | 0   O         \n",
      "19    | general              | 21  NN         | 12  I-NP       | 0   O         \n",
      "20    | and                  | 10  CC         | 0   O          | 0   O         \n",
      "21    | not                  | 30  RB         | 0   O          | 0   O         \n",
      "22    | Moscow               | 22  NNP        | 11  B-NP       | 5   B-LOC     \n",
      "23    | 's                   | 27  POS        | 11  B-NP       | 0   O         \n",
      "24    | intention            | 21  NN         | 12  I-NP       | 0   O         \n",
      "25    | .                    | 7   .          | 0   O          | 0   O         \n",
      "--------------------------------------------------------------------------\n"
     ]
    }
   ],
   "source": [
    "sample_index = 245\n",
    "pc(\"Sample index\", sample_index, break_line=True)\n",
    "\n",
    "sample = dataset_train[sample_index]\n",
    "for key in sample.keys():\n",
    "    pc(key, sample[key])\n",
    "print_sample(sample=sample)"
   ]
  },
  {
   "cell_type": "code",
   "execution_count": 38,
   "id": "96021cbb-e577-495b-976c-0c08316331b0",
   "metadata": {},
   "outputs": [],
   "source": [
    "model_checkpoint = 'bert-base-uncased'\n",
    "tokenizer = AutoTokenizer.from_pretrained(model_checkpoint)"
   ]
  },
  {
   "cell_type": "code",
   "execution_count": 44,
   "id": "f05d8b20-f2c5-4b14-8dce-7434d65378d4",
   "metadata": {},
   "outputs": [],
   "source": [
    "def tokenize_labels(sample):\n",
    "    tokenized_inputs = tokenizer(sample[\"tokens\"], truncation=True, padding=True, is_split_into_words=True)\n",
    "    tokenizer_inputs[pos\"\"] = sample[\"\"]\n",
    "    return tokenized_inputs"
   ]
  },
  {
   "cell_type": "code",
   "execution_count": 45,
   "id": "4ca46600-d8e5-46a0-bb48-efc968c55b62",
   "metadata": {},
   "outputs": [
    {
     "data": {
      "application/vnd.jupyter.widget-view+json": {
       "model_id": "39a5c30333534eba8989383cc92ea355",
       "version_major": 2,
       "version_minor": 0
      },
      "text/plain": [
       "Map:   0%|          | 0/14042 [00:00<?, ? examples/s]"
      ]
     },
     "metadata": {},
     "output_type": "display_data"
    }
   ],
   "source": [
    "tokenized_dataset = dataset_train.map(\n",
    "    tokenize_labels,\n",
    "    batched=True,\n",
    "    remove_columns=dataset_train.column_names\n",
    ")"
   ]
  },
  {
   "cell_type": "code",
   "execution_count": 46,
   "id": "1627493d-ce4e-4e6f-b5ea-3d2d40da54ca",
   "metadata": {},
   "outputs": [
    {
     "name": "stdout",
     "output_type": "stream",
     "text": [
      "{'input_ids': [101, 2003, 8450, 2121, 2056, 1996, 5081, 1997, 1037, 2350, 6101, 2000, 2202, 24665, 18153, 4890, 2018, 2042, 1996, 14477, 14317, 21239, 2098, 6349, 1997, 1996, 7991, 2236, 1998, 2025, 4924, 1005, 1055, 6808, 1012, 102, 0, 0, 0, 0, 0, 0, 0, 0, 0, 0, 0, 0, 0, 0, 0, 0, 0, 0, 0, 0, 0, 0, 0, 0, 0, 0, 0, 0, 0, 0, 0, 0, 0, 0, 0, 0, 0, 0, 0, 0], 'token_type_ids': [0, 0, 0, 0, 0, 0, 0, 0, 0, 0, 0, 0, 0, 0, 0, 0, 0, 0, 0, 0, 0, 0, 0, 0, 0, 0, 0, 0, 0, 0, 0, 0, 0, 0, 0, 0, 0, 0, 0, 0, 0, 0, 0, 0, 0, 0, 0, 0, 0, 0, 0, 0, 0, 0, 0, 0, 0, 0, 0, 0, 0, 0, 0, 0, 0, 0, 0, 0, 0, 0, 0, 0, 0, 0, 0, 0], 'attention_mask': [1, 1, 1, 1, 1, 1, 1, 1, 1, 1, 1, 1, 1, 1, 1, 1, 1, 1, 1, 1, 1, 1, 1, 1, 1, 1, 1, 1, 1, 1, 1, 1, 1, 1, 1, 1, 0, 0, 0, 0, 0, 0, 0, 0, 0, 0, 0, 0, 0, 0, 0, 0, 0, 0, 0, 0, 0, 0, 0, 0, 0, 0, 0, 0, 0, 0, 0, 0, 0, 0, 0, 0, 0, 0, 0, 0]}\n"
     ]
    }
   ],
   "source": [
    "print(tokenized_dataset[sample_index])"
   ]
  },
  {
   "cell_type": "code",
   "execution_count": 32,
   "id": "ba573091-f685-4615-9f55-def15abb620b",
   "metadata": {},
   "outputs": [
    {
     "name": "stdout",
     "output_type": "stream",
     "text": [
      "[None, 0, 0, 0, 1, 2, 3, 4, 5, 6, 7, 8, 9, 10, 10, 10, 11, 12, 13, 14, 14, 14, 14, 15, 16, 17, 18, 19, 20, 21, 22, 23, 23, 24, 25, None]\n",
      "{'input_ids': [101, 2003, 8450, 2121, 2056, 1996, 5081, 1997, 1037, 2350, 6101, 2000, 2202, 24665, 18153, 4890, 2018, 2042, 1996, 14477, 14317, 21239, 2098, 6349, 1997, 1996, 7991, 2236, 1998, 2025, 4924, 1005, 1055, 6808, 1012, 102], 'token_type_ids': [0, 0, 0, 0, 0, 0, 0, 0, 0, 0, 0, 0, 0, 0, 0, 0, 0, 0, 0, 0, 0, 0, 0, 0, 0, 0, 0, 0, 0, 0, 0, 0, 0, 0, 0, 0], 'attention_mask': [1, 1, 1, 1, 1, 1, 1, 1, 1, 1, 1, 1, 1, 1, 1, 1, 1, 1, 1, 1, 1, 1, 1, 1, 1, 1, 1, 1, 1, 1, 1, 1, 1, 1, 1, 1]}\n"
     ]
    }
   ],
   "source": [
    "\n",
    "\n",
    "\n",
    "\n",
    "    \n",
    "inputs = tokenizer(dataset_train[\"tokens\"][sample_index], is_split_into_words=True)\n",
    "pos = dataset_train[\"pos\"][0]\n",
    "word_ids = inputs.word_ids()\n",
    "\n",
    "print(word_ids)\n",
    "print(inputs)"
   ]
  },
  {
   "cell_type": "code",
   "execution_count": null,
   "id": "0c7029fe-3dda-4436-a11b-2498a63c5998",
   "metadata": {},
   "outputs": [],
   "source": []
  }
 ],
 "metadata": {
  "kernelspec": {
   "display_name": "Python 3 (ipykernel)",
   "language": "python",
   "name": "python3"
  },
  "language_info": {
   "codemirror_mode": {
    "name": "ipython",
    "version": 3
   },
   "file_extension": ".py",
   "mimetype": "text/x-python",
   "name": "python",
   "nbconvert_exporter": "python",
   "pygments_lexer": "ipython3",
   "version": "3.10.12"
  }
 },
 "nbformat": 4,
 "nbformat_minor": 5
}
