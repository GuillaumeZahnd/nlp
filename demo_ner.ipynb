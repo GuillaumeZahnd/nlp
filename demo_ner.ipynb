{
 "cells": [
  {
   "cell_type": "code",
   "execution_count": 1,
   "id": "fd8ea4a6-c6ce-4869-91bc-a1963ace9d14",
   "metadata": {},
   "outputs": [
    {
     "name": "stdout",
     "output_type": "stream",
     "text": [
      "WARNING:tensorflow:From C:\\Users\\guillaume.zahnd\\CODE_REPOSITORIES\\nlp\\.venv\\lib\\site-packages\\keras\\src\\losses.py:2976: The name tf.losses.sparse_softmax_cross_entropy is deprecated. Please use tf.compat.v1.losses.sparse_softmax_cross_entropy instead.\n",
      "\n"
     ]
    }
   ],
   "source": [
    "import os\n",
    "import torch\n",
    "import tensorflow_datasets as tfds\n",
    "import datasets\n",
    "from transformers import AutoTokenizer\n",
    "from transformers import AutoModelForTokenClassification\n",
    "from transformers import TrainingArguments\n",
    "from transformers import Trainer\n",
    "from transformers import DataCollatorForTokenClassification\n",
    "from transformers import pipeline\n",
    "import evaluate\n",
    "import numpy as np"
   ]
  },
  {
   "cell_type": "code",
   "execution_count": 2,
   "id": "c5ee971b-df77-4832-9f23-f3e63b6c063a",
   "metadata": {},
   "outputs": [],
   "source": [
    "from utils_display import pc"
   ]
  },
  {
   "cell_type": "code",
   "execution_count": 3,
   "id": "d2bb2f6b-e234-48f8-841c-3f233dc67005",
   "metadata": {},
   "outputs": [
    {
     "name": "stdout",
     "output_type": "stream",
     "text": [
      "\u001b[34mDevice\u001b[0m: cuda\n"
     ]
    }
   ],
   "source": [
    "device = torch.device(\"cuda\" if torch.cuda.is_available() else \"cpu\")\n",
    "pc(\"Device\", device)"
   ]
  },
  {
   "cell_type": "code",
   "execution_count": 4,
   "id": "2ecea334-f646-4e49-9447-c5f8832a04fb",
   "metadata": {},
   "outputs": [],
   "source": [
    "seqeval = evaluate.load(\"seqeval\")"
   ]
  },
  {
   "cell_type": "markdown",
   "id": "33c83ce7-3733-4a91-962b-0b0478c8c98a",
   "metadata": {},
   "source": [
    "# conll2003 dataset"
   ]
  },
  {
   "cell_type": "code",
   "execution_count": 5,
   "id": "1e66755a-a6b2-4dcc-83ba-5b8eff2fb74f",
   "metadata": {},
   "outputs": [
    {
     "name": "stdout",
     "output_type": "stream",
     "text": [
      "\u001b[34mNumber of samples in the train dataset\u001b[0m: 14042\n",
      "\u001b[34mNumber of samples in the test dataset\u001b[0m: 3454\n"
     ]
    }
   ],
   "source": [
    "path_to_conll2003_dataset = os.path.join(\"local_datasets\", \"conll2003\")\n",
    "dataset_train = datasets.load_from_disk(os.path.join(path_to_conll2003_dataset, \"train.hf\"))\n",
    "dataset_test = datasets.load_from_disk(os.path.join(path_to_conll2003_dataset, \"test.hf\"))\n",
    "\n",
    "pc(\"Number of samples in the train dataset\", len(dataset_train))\n",
    "pc(\"Number of samples in the test dataset\", len(dataset_test))"
   ]
  },
  {
   "cell_type": "code",
   "execution_count": 6,
   "id": "0b956fca-2e79-4613-b3cb-ff846443b2bf",
   "metadata": {},
   "outputs": [],
   "source": [
    "sample_index = 2"
   ]
  },
  {
   "cell_type": "code",
   "execution_count": 7,
   "id": "874caa60-de65-4ce2-b7c5-1dbd03d180f2",
   "metadata": {},
   "outputs": [],
   "source": [
    "pos_tags2indices = {\n",
    "    '\"': 0, \"''\": 1, '#': 2, '$': 3, '(': 4, ')': 5, ',': 6, '.': 7, ':': 8, '``': 9, 'CC': 10, 'CD': 11, 'DT': 12,\n",
    "    'EX': 13, 'FW': 14, 'IN': 15, 'JJ': 16, 'JJR': 17, 'JJS': 18, 'LS': 19, 'MD': 20, 'NN': 21, 'NNP': 22, 'NNPS': 23,\n",
    "    'NNS': 24, 'NN|SYM': 25, 'PDT': 26, 'POS': 27, 'PRP': 28, 'PRP$': 29, 'RB': 30, 'RBR': 31, 'RBS': 32, 'RP': 33,\n",
    "    'SYM': 34, 'TO': 35, 'UH': 36, 'VB': 37, 'VBD': 38, 'VBG': 39, 'VBN': 40, 'VBP': 41, 'VBZ': 42, 'WDT': 43,\n",
    "    'WP': 44, 'WP$': 45, 'WRB': 46\n",
    "}\n",
    "\n",
    "chunk_tags2indices = {\n",
    "    'O': 0, 'B-ADJP': 1, 'I-ADJP': 2, 'B-ADVP': 3, 'I-ADVP': 4, 'B-CONJP': 5, 'I-CONJP': 6, 'B-INTJ': 7, 'I-INTJ': 8,\n",
    "    'B-LST': 9, 'I-LST': 10, 'B-NP': 11, 'I-NP': 12, 'B-PP': 13, 'I-PP': 14, 'B-PRT': 15, 'I-PRT': 16, 'B-SBAR': 17,\n",
    "    'I-SBAR': 18, 'B-UCP': 19, 'I-UCP': 20, 'B-VP': 21, 'I-VP': 22\n",
    "}\n",
    "\n",
    "ner_tags2indices = {\n",
    "    'O': 0, 'B-PER': 1, 'I-PER': 2, 'B-ORG': 3, 'I-ORG': 4, 'B-LOC': 5, 'I-LOC': 6, 'B-MISC': 7, 'I-MISC': 8\n",
    "}\n",
    "\n",
    "ner_label_list = [k for k in ner_tags2indices.keys()]"
   ]
  },
  {
   "cell_type": "code",
   "execution_count": 8,
   "id": "010c8db5-28fe-4ef1-b42f-824e5d4b00da",
   "metadata": {},
   "outputs": [
    {
     "name": "stdout",
     "output_type": "stream",
     "text": [
      "\u001b[34mNumber of POS tags\u001b[0m: 47\n",
      "\u001b[34mNumber of CHUNK tags\u001b[0m: 23\n",
      "\u001b[34mNumber of NER tags\u001b[0m: 9\n"
     ]
    }
   ],
   "source": [
    "number_of_pos_tags = len(pos_tags2indices)\n",
    "number_of_chunks_tags = len(chunk_tags2indices)\n",
    "number_of_ner_tags = len(ner_tags2indices)\n",
    "\n",
    "pc(\"Number of POS tags\", number_of_pos_tags)\n",
    "pc(\"Number of CHUNK tags\", number_of_chunks_tags)\n",
    "pc(\"Number of NER tags\", number_of_ner_tags)"
   ]
  },
  {
   "cell_type": "code",
   "execution_count": 9,
   "id": "3a7f2f36-618b-4f0d-8544-8c0e96cb73c7",
   "metadata": {},
   "outputs": [],
   "source": [
    "def create_dico_indices2tags(dico_tags2indices: dict) -> dict:\n",
    "    dico_indices2tags = dict()\n",
    "    for key in dico_tags2indices:\n",
    "        dico_indices2tags[dico_tags2indices[key]] = key\n",
    "    return dico_indices2tags"
   ]
  },
  {
   "cell_type": "code",
   "execution_count": 10,
   "id": "0c76f02c-fdab-4fc0-ae0c-7ab3e481948c",
   "metadata": {},
   "outputs": [],
   "source": [
    "pos_indices2tags = create_dico_indices2tags(dico_tags2indices=pos_tags2indices)\n",
    "chunk_indices2tags = create_dico_indices2tags(dico_tags2indices=chunk_tags2indices)\n",
    "ner_indices2tags = create_dico_indices2tags(dico_tags2indices=ner_tags2indices)"
   ]
  },
  {
   "cell_type": "code",
   "execution_count": 11,
   "id": "5519bf17-6609-4390-8dbf-f05daf8fcfbe",
   "metadata": {},
   "outputs": [],
   "source": [
    "def print_sample(sample) -> None:\n",
    "\n",
    "    print(\"-\"*74)\n",
    "    print(\"{:<4} | {:<20} | {:<3} {:<10} | {:<3} {:<10} | {:<3} {:<10}\".format(\n",
    "        \"INDEX\", \"TOKEN\", \"\", \"POS\", \"\", \"CHUNK\", \"\", \"NER\"))\n",
    "    print(\"-\"*74)\n",
    "    for index in range(len(sample[\"tokens\"])):\n",
    "        \n",
    "        pos_index = sample[\"pos\"][index]\n",
    "        pos_tag = pos_indices2tags[pos_index]\n",
    "    \n",
    "        chunk_index = sample[\"chunks\"][index]\n",
    "        chunk_tag = chunk_indices2tags[chunk_index]\n",
    "    \n",
    "        ner_index = sample[\"ner\"][index]\n",
    "        ner_tag = ner_indices2tags[ner_index]    \n",
    "        \n",
    "        print(\"{:<5} | {:<20} | {:<3} {:<10} | {:<3} {:<10} | {:<3} {:<10}\".format(\n",
    "            index,\n",
    "            sample[\"tokens\"][index],\n",
    "            pos_index,\n",
    "            pos_tag,\n",
    "            chunk_index,\n",
    "            chunk_tag,\n",
    "            ner_index,\n",
    "            ner_tag\n",
    "        ))    \n",
    "    print(\"-\"*74)"
   ]
  },
  {
   "cell_type": "code",
   "execution_count": 12,
   "id": "bdddb600-a9d7-4008-b8ae-25037b9a0e9e",
   "metadata": {},
   "outputs": [
    {
     "name": "stdout",
     "output_type": "stream",
     "text": [
      "\u001b[34mSample index\u001b[0m: 2\n",
      "\n",
      "\u001b[34mindex\u001b[0m: 2\n",
      "\u001b[34mpos\u001b[0m: [22, 27, 16, 21, 42, 12, 21, 42, 16, 10, 22, 22, 22, 22, 27, 21, 20, 37, 12, 21, 27, 16, 10, 16, 24, 6, 12, 21, 21, 38, 15, 22, 7]\n",
      "\u001b[34mchunks\u001b[0m: [11, 11, 12, 12, 21, 11, 12, 21, 1, 0, 11, 12, 12, 12, 11, 12, 21, 22, 11, 12, 12, 1, 2, 2, 11, 0, 11, 12, 12, 21, 13, 11, 0]\n",
      "\u001b[34mner\u001b[0m: [5, 0, 0, 0, 0, 0, 0, 0, 0, 0, 0, 0, 1, 2, 0, 0, 0, 0, 0, 0, 0, 0, 0, 0, 0, 0, 0, 0, 0, 0, 0, 0, 0]\n",
      "\u001b[34mtokens\u001b[0m: ['Thailand', \"'s\", 'powerful', 'military', 'thinks', 'the', 'government', 'is', 'dishonest', 'and', 'Prime', 'Minister', 'Banharn', 'Silpa-archa', \"'s\", 'resignation', 'might', 'solve', 'the', 'nation', \"'s\", 'political', 'and', 'economic', 'woes', ',', 'an', 'opinion', 'poll', 'showed', 'on', 'Thursday', '.']\n",
      "--------------------------------------------------------------------------\n",
      "INDEX | TOKEN                |     POS        |     CHUNK      |     NER       \n",
      "--------------------------------------------------------------------------\n",
      "0     | Thailand             | 22  NNP        | 11  B-NP       | 5   B-LOC     \n",
      "1     | 's                   | 27  POS        | 11  B-NP       | 0   O         \n",
      "2     | powerful             | 16  JJ         | 12  I-NP       | 0   O         \n",
      "3     | military             | 21  NN         | 12  I-NP       | 0   O         \n",
      "4     | thinks               | 42  VBZ        | 21  B-VP       | 0   O         \n",
      "5     | the                  | 12  DT         | 11  B-NP       | 0   O         \n",
      "6     | government           | 21  NN         | 12  I-NP       | 0   O         \n",
      "7     | is                   | 42  VBZ        | 21  B-VP       | 0   O         \n",
      "8     | dishonest            | 16  JJ         | 1   B-ADJP     | 0   O         \n",
      "9     | and                  | 10  CC         | 0   O          | 0   O         \n",
      "10    | Prime                | 22  NNP        | 11  B-NP       | 0   O         \n",
      "11    | Minister             | 22  NNP        | 12  I-NP       | 0   O         \n",
      "12    | Banharn              | 22  NNP        | 12  I-NP       | 1   B-PER     \n",
      "13    | Silpa-archa          | 22  NNP        | 12  I-NP       | 2   I-PER     \n",
      "14    | 's                   | 27  POS        | 11  B-NP       | 0   O         \n",
      "15    | resignation          | 21  NN         | 12  I-NP       | 0   O         \n",
      "16    | might                | 20  MD         | 21  B-VP       | 0   O         \n",
      "17    | solve                | 37  VB         | 22  I-VP       | 0   O         \n",
      "18    | the                  | 12  DT         | 11  B-NP       | 0   O         \n",
      "19    | nation               | 21  NN         | 12  I-NP       | 0   O         \n",
      "20    | 's                   | 27  POS        | 12  I-NP       | 0   O         \n",
      "21    | political            | 16  JJ         | 1   B-ADJP     | 0   O         \n",
      "22    | and                  | 10  CC         | 2   I-ADJP     | 0   O         \n",
      "23    | economic             | 16  JJ         | 2   I-ADJP     | 0   O         \n",
      "24    | woes                 | 24  NNS        | 11  B-NP       | 0   O         \n",
      "25    | ,                    | 6   ,          | 0   O          | 0   O         \n",
      "26    | an                   | 12  DT         | 11  B-NP       | 0   O         \n",
      "27    | opinion              | 21  NN         | 12  I-NP       | 0   O         \n",
      "28    | poll                 | 21  NN         | 12  I-NP       | 0   O         \n",
      "29    | showed               | 38  VBD        | 21  B-VP       | 0   O         \n",
      "30    | on                   | 15  IN         | 13  B-PP       | 0   O         \n",
      "31    | Thursday             | 22  NNP        | 11  B-NP       | 0   O         \n",
      "32    | .                    | 7   .          | 0   O          | 0   O         \n",
      "--------------------------------------------------------------------------\n"
     ]
    }
   ],
   "source": [
    "pc(\"Sample index\", sample_index, break_line=True)\n",
    "\n",
    "sample = dataset_train[sample_index]\n",
    "for key in sample.keys():\n",
    "    pc(key, sample[key])\n",
    "print_sample(sample=sample)"
   ]
  },
  {
   "cell_type": "markdown",
   "id": "59383dbb-ed2b-43b3-992a-1c49d979711c",
   "metadata": {},
   "source": [
    "# BERT model"
   ]
  },
  {
   "cell_type": "code",
   "execution_count": 13,
   "id": "97b00515-3b10-4747-be00-feda17b274e1",
   "metadata": {},
   "outputs": [],
   "source": [
    "model_checkpoint = 'bert-base-uncased'"
   ]
  },
  {
   "cell_type": "code",
   "execution_count": 14,
   "id": "96021cbb-e577-495b-976c-0c08316331b0",
   "metadata": {},
   "outputs": [],
   "source": [
    "tokenizer = AutoTokenizer.from_pretrained(model_checkpoint)"
   ]
  },
  {
   "cell_type": "code",
   "execution_count": 15,
   "id": "d928728f-5048-4ded-8399-d9f7088ec56a",
   "metadata": {},
   "outputs": [],
   "source": [
    "def tokenize_and_align_labels(examples):\n",
    "    label_all_tokens = True\n",
    "    tokenized_inputs = tokenizer(examples[\"tokens\"], truncation=True, is_split_into_words=True)    \n",
    "    labels = []\n",
    "    for i, label in enumerate(examples[\"ner\"]):\n",
    "        word_ids = tokenized_inputs.word_ids(batch_index=i)\n",
    "        previous_word_idx = None\n",
    "        label_ids = []\n",
    "        for word_idx in word_ids:\n",
    "            # Special tokens have a word id that is None. We set the label to -100 so they are automatically\n",
    "            # ignored in the loss function.\n",
    "            if word_idx is None:\n",
    "                label_ids.append(-100)\n",
    "            # We set the label for the first token of each word.\n",
    "            elif word_idx != previous_word_idx:\n",
    "                label_ids.append(label[word_idx])\n",
    "            # For the other tokens in a word, we set the label to either the current label or -100, depending on\n",
    "            # the label_all_tokens flag.\n",
    "            else:\n",
    "                label_ids.append(label[word_idx] if label_all_tokens else -100)\n",
    "            previous_word_idx = word_idx\n",
    "\n",
    "        labels.append(label_ids)\n",
    "\n",
    "    tokenized_inputs[\"labels\"] = labels\n",
    "    return tokenized_inputs"
   ]
  },
  {
   "cell_type": "code",
   "execution_count": 16,
   "id": "4ca46600-d8e5-46a0-bb48-efc968c55b62",
   "metadata": {},
   "outputs": [],
   "source": [
    "def tokenize_dataset(dataset):\n",
    "    return dataset.map(\n",
    "        tokenize_and_align_labels,        \n",
    "        batched=True,\n",
    "        remove_columns=dataset.column_names\n",
    "    ) "
   ]
  },
  {
   "cell_type": "code",
   "execution_count": 17,
   "id": "454c4d27-e35d-40cc-ac99-9bb757f1f864",
   "metadata": {},
   "outputs": [],
   "source": [
    "tokenized_dataset_train = tokenize_dataset(dataset_train)\n",
    "tokenized_dataset_test = tokenize_dataset(dataset_test)"
   ]
  },
  {
   "cell_type": "code",
   "execution_count": 18,
   "id": "f93eb0e6-e9eb-404d-bd61-c0c61b6b0b97",
   "metadata": {},
   "outputs": [
    {
     "name": "stdout",
     "output_type": "stream",
     "text": [
      "\u001b[34mSample tokens\u001b[0m: ['Thailand', \"'s\", 'powerful', 'military', 'thinks', 'the', 'government', 'is', 'dishonest', 'and', 'Prime', 'Minister', 'Banharn', 'Silpa-archa', \"'s\", 'resignation', 'might', 'solve', 'the', 'nation', \"'s\", 'political', 'and', 'economic', 'woes', ',', 'an', 'opinion', 'poll', 'showed', 'on', 'Thursday', '.']\n",
      "\u001b[34mNumber of sample tokens\u001b[0m: 33\n",
      "\n",
      "\u001b[34mInput ids\u001b[0m: [101, 6504, 1005, 1055, 3928, 2510, 6732, 1996, 2231, 2003, 9841, 21821, 2102, 1998, 3539, 2704, 7221, 8167, 2078, 9033, 14277, 2050, 1011, 7905, 2050, 1005, 1055, 8172, 2453, 9611, 1996, 3842, 1005, 1055, 2576, 1998, 3171, 24185, 2229, 1010, 2019, 5448, 8554, 3662, 2006, 9432, 1012, 102]\n",
      "\u001b[34mNumber of input ids\u001b[0m: 48\n",
      "\n",
      "\u001b[34mWord indices\u001b[0m: [None, 0, 1, 1, 2, 3, 4, 5, 6, 7, 8, 8, 8, 9, 10, 11, 12, 12, 12, 13, 13, 13, 13, 13, 13, 14, 14, 15, 16, 17, 18, 19, 20, 20, 21, 22, 23, 24, 24, 25, 26, 27, 28, 29, 30, 31, 32, None]\n",
      "\u001b[34mNumber of word indices\u001b[0m: 48\n",
      "\n",
      "\u001b[34mAligned labels\u001b[0m: [-100, 5, 0, 0, 0, 0, 0, 0, 0, 0, 0, 0, 0, 0, 0, 0, 1, 1, 1, 2, 2, 2, 2, 2, 2, 0, 0, 0, 0, 0, 0, 0, 0, 0, 0, 0, 0, 0, 0, 0, 0, 0, 0, 0, 0, 0, 0, -100]\n",
      "\u001b[34mNumber of aligned labels\u001b[0m: 48\n"
     ]
    }
   ],
   "source": [
    "sample = dataset_train[sample_index]\n",
    "sample_tokens = sample[\"tokens\"]\n",
    "sample_input_ids = tokenized_dataset_train[sample_index][\"input_ids\"]\n",
    "tokenized_sample_input = tokenizer(sample_tokens, is_split_into_words=True)\n",
    "word_indices = tokenized_sample_input.word_ids()\n",
    "sample_labels_aligned = tokenized_dataset_train[sample_index][\"labels\"]\n",
    "\n",
    "pc(\"Sample tokens\", sample_tokens)\n",
    "pc(\"Number of sample tokens\", len(sample_tokens), break_line=True)\n",
    "pc(\"Input ids\", sample_input_ids)\n",
    "pc(\"Number of input ids\", len(sample_input_ids), break_line=True)\n",
    "pc(\"Word indices\", word_indices)\n",
    "pc(\"Number of word indices\", len(word_indices), break_line=True)\n",
    "pc(\"Aligned labels\", sample_labels_aligned)\n",
    "pc(\"Number of aligned labels\", len(sample_labels_aligned))"
   ]
  },
  {
   "cell_type": "code",
   "execution_count": 19,
   "id": "89cdca25-b66f-4875-8893-88785857da6a",
   "metadata": {},
   "outputs": [
    {
     "name": "stdout",
     "output_type": "stream",
     "text": [
      "    | TOKEN           | WORD IDS                       | INPUT IDS                                               | NER LABELS                         \n",
      "0   | Thailand        | 0                              | 6504                                                    | 5                                  \n",
      "1   | 's              | 1, 1                           | 1005, 1055                                              | 0, 0                               \n",
      "2   | powerful        | 2                              | 3928                                                    | 0                                  \n",
      "3   | military        | 3                              | 2510                                                    | 0                                  \n",
      "4   | thinks          | 4                              | 6732                                                    | 0                                  \n",
      "5   | the             | 5                              | 1996                                                    | 0                                  \n",
      "6   | government      | 6                              | 2231                                                    | 0                                  \n",
      "7   | is              | 7                              | 2003                                                    | 0                                  \n",
      "8   | dishonest       | 8, 8, 8                        | 9841, 21821, 2102                                       | 0, 0, 0                            \n",
      "9   | and             | 9                              | 1998                                                    | 0                                  \n",
      "10  | Prime           | 10                             | 3539                                                    | 0                                  \n",
      "11  | Minister        | 11                             | 2704                                                    | 0                                  \n",
      "12  | Banharn         | 12, 12, 12                     | 7221, 8167, 2078                                        | 1, 1, 1                            \n",
      "13  | Silpa-archa     | 13, 13, 13, 13, 13, 13         | 9033, 14277, 2050, 1011, 7905, 2050                     | 2, 2, 2, 2, 2, 2                   \n",
      "14  | 's              | 14, 14                         | 1005, 1055                                              | 0, 0                               \n",
      "15  | resignation     | 15                             | 8172                                                    | 0                                  \n",
      "16  | might           | 16                             | 2453                                                    | 0                                  \n",
      "17  | solve           | 17                             | 9611                                                    | 0                                  \n",
      "18  | the             | 18                             | 1996                                                    | 0                                  \n",
      "19  | nation          | 19                             | 3842                                                    | 0                                  \n",
      "20  | 's              | 20, 20                         | 1005, 1055                                              | 0, 0                               \n",
      "21  | political       | 21                             | 2576                                                    | 0                                  \n",
      "22  | and             | 22                             | 1998                                                    | 0                                  \n",
      "23  | economic        | 23                             | 3171                                                    | 0                                  \n",
      "24  | woes            | 24, 24                         | 24185, 2229                                             | 0, 0                               \n",
      "25  | ,               | 25                             | 1010                                                    | 0                                  \n",
      "26  | an              | 26                             | 2019                                                    | 0                                  \n",
      "27  | opinion         | 27                             | 5448                                                    | 0                                  \n",
      "28  | poll            | 28                             | 8554                                                    | 0                                  \n",
      "29  | showed          | 29                             | 3662                                                    | 0                                  \n",
      "30  | on              | 30                             | 2006                                                    | 0                                  \n",
      "31  | Thursday        | 31                             | 9432                                                    | 0                                  \n",
      "32  | .               | 32                             | 1012                                                    | 0                                  \n"
     ]
    }
   ],
   "source": [
    "print(\"{:<3} | {:<15} | {:<30} | {:<55} | {:<35}\".format(\n",
    "    \"\",\n",
    "    \"TOKEN\",\n",
    "    \"WORD IDS\",\n",
    "    \"INPUT IDS\",\n",
    "    \"NER LABELS\"))\n",
    "\n",
    "for s in range(len(sample_tokens)):\n",
    "    w = [i for i, j in enumerate(word_indices) if j == s]\n",
    "    sample_token_s = sample_tokens[s]\n",
    "    word_indices_k = [str(word_indices[k]) for k in w]\n",
    "    sample_input_ids_k = [str(sample_input_ids[k]) for k in w]\n",
    "    sample_labels_aligned_k = [str(sample_labels_aligned[k]) for k in w]\n",
    "    print(\"{:<3} | {:<15} | {:<30} | {:<55} | {:<35}\".format(\n",
    "        s,\n",
    "        sample_token_s,\n",
    "        \", \".join(word_indices_k),\n",
    "        \", \".join(sample_input_ids_k),\n",
    "        \", \".join(sample_labels_aligned_k)))"
   ]
  },
  {
   "cell_type": "code",
   "execution_count": 20,
   "id": "1627493d-ce4e-4e6f-b5ea-3d2d40da54ca",
   "metadata": {},
   "outputs": [
    {
     "name": "stdout",
     "output_type": "stream",
     "text": [
      "\u001b[34mDataset, sample index\u001b[0m: 2\n",
      "\u001b[34mindex\u001b[0m: 2\n",
      "\u001b[34mpos\u001b[0m: [22, 27, 16, 21, 42, 12, 21, 42, 16, 10, 22, 22, 22, 22, 27, 21, 20, 37, 12, 21, 27, 16, 10, 16, 24, 6, 12, 21, 21, 38, 15, 22, 7]\n",
      "\u001b[34mchunks\u001b[0m: [11, 11, 12, 12, 21, 11, 12, 21, 1, 0, 11, 12, 12, 12, 11, 12, 21, 22, 11, 12, 12, 1, 2, 2, 11, 0, 11, 12, 12, 21, 13, 11, 0]\n",
      "\u001b[34mner\u001b[0m: [5, 0, 0, 0, 0, 0, 0, 0, 0, 0, 0, 0, 1, 2, 0, 0, 0, 0, 0, 0, 0, 0, 0, 0, 0, 0, 0, 0, 0, 0, 0, 0, 0]\n",
      "\u001b[34mtokens\u001b[0m: ['Thailand', \"'s\", 'powerful', 'military', 'thinks', 'the', 'government', 'is', 'dishonest', 'and', 'Prime', 'Minister', 'Banharn', 'Silpa-archa', \"'s\", 'resignation', 'might', 'solve', 'the', 'nation', \"'s\", 'political', 'and', 'economic', 'woes', ',', 'an', 'opinion', 'poll', 'showed', 'on', 'Thursday', '.']\n"
     ]
    }
   ],
   "source": [
    "pc(\"Dataset, sample index\", sample_index)\n",
    "for key in dataset_train[sample_index].keys():\n",
    "    pc(key, dataset_train[sample_index][key])"
   ]
  },
  {
   "cell_type": "code",
   "execution_count": 21,
   "id": "8ed4e56f-3ef0-472e-9751-c107ca5f3697",
   "metadata": {},
   "outputs": [
    {
     "name": "stdout",
     "output_type": "stream",
     "text": [
      "\u001b[34mTokenized ataset, sample index\u001b[0m: 2\n",
      "\u001b[34minput_ids\u001b[0m: [101, 6504, 1005, 1055, 3928, 2510, 6732, 1996, 2231, 2003, 9841, 21821, 2102, 1998, 3539, 2704, 7221, 8167, 2078, 9033, 14277, 2050, 1011, 7905, 2050, 1005, 1055, 8172, 2453, 9611, 1996, 3842, 1005, 1055, 2576, 1998, 3171, 24185, 2229, 1010, 2019, 5448, 8554, 3662, 2006, 9432, 1012, 102]\n",
      "\u001b[34mtoken_type_ids\u001b[0m: [0, 0, 0, 0, 0, 0, 0, 0, 0, 0, 0, 0, 0, 0, 0, 0, 0, 0, 0, 0, 0, 0, 0, 0, 0, 0, 0, 0, 0, 0, 0, 0, 0, 0, 0, 0, 0, 0, 0, 0, 0, 0, 0, 0, 0, 0, 0, 0]\n",
      "\u001b[34mattention_mask\u001b[0m: [1, 1, 1, 1, 1, 1, 1, 1, 1, 1, 1, 1, 1, 1, 1, 1, 1, 1, 1, 1, 1, 1, 1, 1, 1, 1, 1, 1, 1, 1, 1, 1, 1, 1, 1, 1, 1, 1, 1, 1, 1, 1, 1, 1, 1, 1, 1, 1]\n",
      "\u001b[34mlabels\u001b[0m: [-100, 5, 0, 0, 0, 0, 0, 0, 0, 0, 0, 0, 0, 0, 0, 0, 1, 1, 1, 2, 2, 2, 2, 2, 2, 0, 0, 0, 0, 0, 0, 0, 0, 0, 0, 0, 0, 0, 0, 0, 0, 0, 0, 0, 0, 0, 0, -100]\n"
     ]
    }
   ],
   "source": [
    "pc(\"Tokenized ataset, sample index\", sample_index)\n",
    "for key in tokenized_dataset_train[sample_index].keys():\n",
    "    pc(key, tokenized_dataset_train[sample_index][key])"
   ]
  },
  {
   "cell_type": "code",
   "execution_count": 22,
   "id": "0c7029fe-3dda-4436-a11b-2498a63c5998",
   "metadata": {},
   "outputs": [
    {
     "name": "stdout",
     "output_type": "stream",
     "text": [
      "[CLS] thailand ' s powerful military thinks the government is dishonest and prime minister banharn silpa - archa ' s resignation might solve the nation ' s political and economic woes, an opinion poll showed on thursday. [SEP]\n"
     ]
    }
   ],
   "source": [
    "print(tokenizer.decode(tokenized_dataset_train[sample_index][\"input_ids\"]))"
   ]
  },
  {
   "cell_type": "code",
   "execution_count": 23,
   "id": "ebd7d930-d6f5-4d1f-98e0-c8458a590677",
   "metadata": {},
   "outputs": [
    {
     "name": "stderr",
     "output_type": "stream",
     "text": [
      "Some weights of BertForTokenClassification were not initialized from the model checkpoint at bert-base-uncased and are newly initialized: ['classifier.bias', 'classifier.weight']\n",
      "You should probably TRAIN this model on a down-stream task to be able to use it for predictions and inference.\n"
     ]
    }
   ],
   "source": [
    "model = AutoModelForTokenClassification.from_pretrained(\n",
    "    pretrained_model_name_or_path=model_checkpoint,\n",
    "    num_labels=number_of_ner_tags,\n",
    "    id2label=ner_indices2tags,\n",
    "    label2id=ner_tags2indices,\n",
    ")"
   ]
  },
  {
   "cell_type": "code",
   "execution_count": 24,
   "id": "abed0e80-ea9e-4b0b-8242-15767cc3be30",
   "metadata": {},
   "outputs": [],
   "source": [
    "args = TrainingArguments(\n",
    "    \"bert-finetuned-ner\",\n",
    "    eval_strategy=\"epoch\",\n",
    "    logging_strategy=\"epoch\",\n",
    "    save_strategy=\"epoch\",\n",
    "    learning_rate=1e-5,\n",
    "    num_train_epochs=3,\n",
    "    weight_decay=1e-3,\n",
    "    per_device_train_batch_size=32,\n",
    "    per_device_eval_batch_size=32,\n",
    "    report_to=\"wandb\"    \n",
    ")"
   ]
  },
  {
   "cell_type": "code",
   "execution_count": 25,
   "id": "0784cd71-a27a-4614-9076-1fd2be087f56",
   "metadata": {},
   "outputs": [],
   "source": [
    "def compute_metrics(p):\n",
    "    predictions, labels = p\n",
    "    predictions = np.argmax(predictions, axis=2)\n",
    "\n",
    "    true_predictions = [\n",
    "        [ner_label_list[p] for (p, l) in zip(prediction, label) if l != -100]\n",
    "        for prediction, label in zip(predictions, labels)\n",
    "    ]\n",
    "\n",
    "    true_labels = [\n",
    "        [ner_label_list[l] for (p, l) in zip(prediction, label) if l != -100]\n",
    "        for prediction, label in zip(predictions, labels)\n",
    "    ]\n",
    "\n",
    "    results = seqeval.compute(predictions=true_predictions, references=true_labels)\n",
    "\n",
    "    return {\n",
    "        \"precision\": results[\"overall_precision\"],\n",
    "        \"recall\": results[\"overall_recall\"],\n",
    "        \"f1\": results[\"overall_f1\"],\n",
    "        \"accuracy\": results[\"overall_accuracy\"],\n",
    "    }"
   ]
  },
  {
   "cell_type": "code",
   "execution_count": 26,
   "id": "9ef5d883-f20e-4cf3-8e75-1cae4b402515",
   "metadata": {},
   "outputs": [],
   "source": [
    "data_collator = DataCollatorForTokenClassification(tokenizer=tokenizer)"
   ]
  },
  {
   "cell_type": "code",
   "execution_count": 27,
   "id": "f1b7511f-82b7-4334-9c1b-9571d5c89731",
   "metadata": {},
   "outputs": [],
   "source": [
    "trainer = Trainer(\n",
    "    model=model,\n",
    "    args=args,\n",
    "    train_dataset=tokenized_dataset_train,\n",
    "    eval_dataset=tokenized_dataset_test,\n",
    "    data_collator=data_collator,\n",
    "    compute_metrics=compute_metrics,\n",
    "    processing_class=tokenizer,\n",
    ")"
   ]
  },
  {
   "cell_type": "code",
   "execution_count": 28,
   "id": "ab28e3e8-9415-4545-bf30-fc4046ab32e3",
   "metadata": {},
   "outputs": [
    {
     "name": "stderr",
     "output_type": "stream",
     "text": [
      "\u001b[34m\u001b[1mwandb\u001b[0m: \u001b[33mWARNING\u001b[0m The `run_name` is currently set to the same value as `TrainingArguments.output_dir`. If this was not intended, please specify a different run name by setting the `TrainingArguments.run_name` parameter.\n",
      "wandb: Currently logged in as: gzahnd to https://api.wandb.ai. Use `wandb login --relogin` to force relogin\n"
     ]
    },
    {
     "data": {
      "text/html": [
       "Tracking run with wandb version 0.21.0"
      ],
      "text/plain": [
       "<IPython.core.display.HTML object>"
      ]
     },
     "metadata": {},
     "output_type": "display_data"
    },
    {
     "data": {
      "text/html": [
       "Run data is saved locally in <code>C:\\Users\\guillaume.zahnd\\CODE_REPOSITORIES\\nlp\\wandb\\run-20250704_131827-hon3fzg6</code>"
      ],
      "text/plain": [
       "<IPython.core.display.HTML object>"
      ]
     },
     "metadata": {},
     "output_type": "display_data"
    },
    {
     "data": {
      "text/html": [
       "Syncing run <strong><a href='https://wandb.ai/gzahnd/huggingface/runs/hon3fzg6' target=\"_blank\">bert-finetuned-ner</a></strong> to <a href='https://wandb.ai/gzahnd/huggingface' target=\"_blank\">Weights & Biases</a> (<a href='https://wandb.me/developer-guide' target=\"_blank\">docs</a>)<br>"
      ],
      "text/plain": [
       "<IPython.core.display.HTML object>"
      ]
     },
     "metadata": {},
     "output_type": "display_data"
    },
    {
     "data": {
      "text/html": [
       " View project at <a href='https://wandb.ai/gzahnd/huggingface' target=\"_blank\">https://wandb.ai/gzahnd/huggingface</a>"
      ],
      "text/plain": [
       "<IPython.core.display.HTML object>"
      ]
     },
     "metadata": {},
     "output_type": "display_data"
    },
    {
     "data": {
      "text/html": [
       " View run at <a href='https://wandb.ai/gzahnd/huggingface/runs/hon3fzg6' target=\"_blank\">https://wandb.ai/gzahnd/huggingface/runs/hon3fzg6</a>"
      ],
      "text/plain": [
       "<IPython.core.display.HTML object>"
      ]
     },
     "metadata": {},
     "output_type": "display_data"
    },
    {
     "name": "stderr",
     "output_type": "stream",
     "text": [
      "C:\\Users\\guillaume.zahnd\\CODE_REPOSITORIES\\nlp\\.venv\\lib\\site-packages\\transformers\\models\\bert\\modeling_bert.py:408: UserWarning: 1Torch was not compiled with flash attention. (Triggered internally at C:\\actions-runner\\_work\\pytorch\\pytorch\\builder\\windows\\pytorch\\aten\\src\\ATen\\native\\transformers\\cuda\\sdp_utils.cpp:555.)\n",
      "  attn_output = torch.nn.functional.scaled_dot_product_attention(\n"
     ]
    },
    {
     "data": {
      "text/html": [
       "\n",
       "    <div>\n",
       "      \n",
       "      <progress value='1317' max='1317' style='width:300px; height:20px; vertical-align: middle;'></progress>\n",
       "      [1317/1317 01:08, Epoch 3/3]\n",
       "    </div>\n",
       "    <table border=\"1\" class=\"dataframe\">\n",
       "  <thead>\n",
       " <tr style=\"text-align: left;\">\n",
       "      <th>Epoch</th>\n",
       "      <th>Training Loss</th>\n",
       "      <th>Validation Loss</th>\n",
       "      <th>Precision</th>\n",
       "      <th>Recall</th>\n",
       "      <th>F1</th>\n",
       "      <th>Accuracy</th>\n",
       "    </tr>\n",
       "  </thead>\n",
       "  <tbody>\n",
       "    <tr>\n",
       "      <td>1</td>\n",
       "      <td>0.279700</td>\n",
       "      <td>0.118839</td>\n",
       "      <td>0.828791</td>\n",
       "      <td>0.858889</td>\n",
       "      <td>0.843572</td>\n",
       "      <td>0.966560</td>\n",
       "    </tr>\n",
       "    <tr>\n",
       "      <td>2</td>\n",
       "      <td>0.082500</td>\n",
       "      <td>0.104410</td>\n",
       "      <td>0.875454</td>\n",
       "      <td>0.886779</td>\n",
       "      <td>0.881080</td>\n",
       "      <td>0.973085</td>\n",
       "    </tr>\n",
       "    <tr>\n",
       "      <td>3</td>\n",
       "      <td>0.059900</td>\n",
       "      <td>0.103921</td>\n",
       "      <td>0.876909</td>\n",
       "      <td>0.892832</td>\n",
       "      <td>0.884799</td>\n",
       "      <td>0.973500</td>\n",
       "    </tr>\n",
       "  </tbody>\n",
       "</table><p>"
      ],
      "text/plain": [
       "<IPython.core.display.HTML object>"
      ]
     },
     "metadata": {},
     "output_type": "display_data"
    },
    {
     "data": {
      "text/plain": [
       "TrainOutput(global_step=1317, training_loss=0.1406927955992401, metrics={'train_runtime': 70.3786, 'train_samples_per_second': 598.563, 'train_steps_per_second': 18.713, 'total_flos': 1135320516016272.0, 'train_loss': 0.1406927955992401, 'epoch': 3.0})"
      ]
     },
     "execution_count": 28,
     "metadata": {},
     "output_type": "execute_result"
    }
   ],
   "source": [
    "trainer.train()"
   ]
  },
  {
   "cell_type": "markdown",
   "id": "d71acf75-d887-4614-a3e8-528e894e62a1",
   "metadata": {},
   "source": [
    "# Evaluation"
   ]
  },
  {
   "cell_type": "code",
   "execution_count": 29,
   "id": "17c5e6ef-413f-4816-99be-6588c31c9452",
   "metadata": {},
   "outputs": [
    {
     "name": "stderr",
     "output_type": "stream",
     "text": [
      "Device set to use cuda\n"
     ]
    }
   ],
   "source": [
    "nlp = pipeline(\"ner\", model=model, tokenizer=tokenizer, device=device, aggregation_strategy=\"simple\")"
   ]
  },
  {
   "cell_type": "code",
   "execution_count": 30,
   "id": "a3b2730d-daba-4635-9697-71537456ff7d",
   "metadata": {},
   "outputs": [],
   "source": [
    "text = \"The Game of Life, also known as Conway's Game of Life or simply Life, is a cellular automaton devised by the British mathematician John Horton Conway in 1970. It is a zero-player game, meaning that its evolution is determined by its initial state, requiring no further input. One interacts with the Game of Life by creating an initial configuration and observing how it evolves. It is Turing complete and can simulate a universal constructor or any other Turing machine. \""
   ]
  },
  {
   "cell_type": "code",
   "execution_count": 31,
   "id": "234a8c94-4726-40cf-a484-5608c46114f7",
   "metadata": {},
   "outputs": [],
   "source": [
    "text_tokenized = tokenizer.tokenize(text)"
   ]
  },
  {
   "cell_type": "code",
   "execution_count": 32,
   "id": "d5c3208d-44a5-44ab-81b1-ecb38938d49a",
   "metadata": {},
   "outputs": [],
   "source": [
    "text_ner = nlp(text_tokenized)"
   ]
  },
  {
   "cell_type": "code",
   "execution_count": 33,
   "id": "8eab1cbf-9e3e-4aef-9b60-fa4fe0511769",
   "metadata": {},
   "outputs": [
    {
     "name": "stdout",
     "output_type": "stream",
     "text": [
      "Text: The Game of Life, also known as Conway's Game of Life or simply Life, is a cellular automaton devised by the British mathematician John Horton Conway in 1970. It is a zero-player game, meaning that its evolution is determined by its initial state, requiring no further input. One interacts with the Game of Life by creating an initial configuration and observing how it evolves. It is Turing complete and can simulate a universal constructor or any other Turing machine. \n",
      "\n",
      "the: []\n",
      "game: []\n",
      "of: []\n",
      "life: []\n",
      ",: []\n",
      "also: []\n",
      "known: []\n",
      "as: []\n",
      "conway: [{'entity_group': 'PER', 'score': 0.9600565, 'word': 'conway', 'start': 0, 'end': 6}]\n",
      "': []\n",
      "s: []\n",
      "game: []\n",
      "of: []\n",
      "life: []\n",
      "or: []\n",
      "simply: []\n",
      "life: []\n",
      ",: []\n",
      "is: []\n",
      "a: []\n",
      "cellular: [{'entity_group': 'ORG', 'score': 0.807673, 'word': 'cellular', 'start': 0, 'end': 8}]\n",
      "auto: []\n",
      "##mat: []\n",
      "##on: []\n",
      "devised: []\n",
      "by: []\n",
      "the: []\n",
      "british: [{'entity_group': 'MISC', 'score': 0.9722024, 'word': 'british', 'start': 0, 'end': 7}]\n",
      "mathematician: []\n",
      "john: [{'entity_group': 'PER', 'score': 0.8794616, 'word': 'john', 'start': 0, 'end': 4}]\n",
      "horton: [{'entity_group': 'PER', 'score': 0.8323043, 'word': 'horton', 'start': 0, 'end': 6}]\n",
      "conway: [{'entity_group': 'PER', 'score': 0.9600565, 'word': 'conway', 'start': 0, 'end': 6}]\n",
      "in: []\n",
      "1970: []\n",
      ".: []\n",
      "it: []\n",
      "is: []\n",
      "a: []\n",
      "zero: []\n",
      "-: []\n",
      "player: []\n",
      "game: []\n",
      ",: []\n",
      "meaning: []\n",
      "that: []\n",
      "its: []\n",
      "evolution: []\n",
      "is: []\n",
      "determined: []\n",
      "by: []\n",
      "its: []\n",
      "initial: []\n",
      "state: []\n",
      ",: []\n",
      "requiring: []\n",
      "no: []\n",
      "further: []\n",
      "input: []\n",
      ".: []\n",
      "one: []\n",
      "interact: [{'entity_group': 'ORG', 'score': 0.97269386, 'word': 'interact', 'start': 0, 'end': 8}]\n",
      "##s: []\n",
      "with: []\n",
      "the: []\n",
      "game: []\n",
      "of: []\n",
      "life: []\n",
      "by: []\n",
      "creating: []\n",
      "an: []\n",
      "initial: []\n",
      "configuration: []\n",
      "and: []\n",
      "observing: []\n",
      "how: []\n",
      "it: []\n",
      "evolve: []\n",
      "##s: []\n",
      ".: []\n",
      "it: []\n",
      "is: []\n",
      "turing: [{'entity_group': 'ORG', 'score': 0.94331044, 'word': 'turing', 'start': 0, 'end': 6}]\n",
      "complete: []\n",
      "and: []\n",
      "can: []\n",
      "simulate: []\n",
      "a: []\n",
      "universal: [{'entity_group': 'ORG', 'score': 0.9559348, 'word': 'universal', 'start': 0, 'end': 9}]\n",
      "construct: []\n",
      "##or: []\n",
      "or: []\n",
      "any: []\n",
      "other: []\n",
      "turing: [{'entity_group': 'ORG', 'score': 0.94331044, 'word': 'turing', 'start': 0, 'end': 6}]\n",
      "machine: []\n",
      ".: []\n"
     ]
    }
   ],
   "source": [
    "pc(\"Text\", text, break_line=True)\n",
    "for k in range(len(text_ner)):\n",
    "    pc(text_tokenized[k], text_ner[k])"
   ]
  },
  {
   "cell_type": "code",
   "execution_count": null,
   "id": "9a64d505-74c8-44fb-83a0-5b76f1002a51",
   "metadata": {},
   "outputs": [],
   "source": []
  }
 ],
 "metadata": {
  "kernelspec": {
   "display_name": "Python 3 (ipykernel)",
   "language": "python",
   "name": "python3"
  },
  "language_info": {
   "codemirror_mode": {
    "name": "ipython",
    "version": 3
   },
   "file_extension": ".py",
   "mimetype": "text/x-python",
   "name": "python",
   "nbconvert_exporter": "python",
   "pygments_lexer": "ipython3",
   "version": "3.10.11"
  }
 },
 "nbformat": 4,
 "nbformat_minor": 5
}
