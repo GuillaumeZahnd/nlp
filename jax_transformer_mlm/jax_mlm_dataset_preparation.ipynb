{
 "cells": [
  {
   "cell_type": "code",
   "execution_count": 1,
   "id": "5b5e8407-42af-45a0-b55b-9701c35b89d7",
   "metadata": {},
   "outputs": [],
   "source": [
    "from jax_mlm_helpers import build_vocabulary\n",
    "from jax_mlm_helpers import apply_random_masking\n",
    "from jax_mlm_helpers import pad_and_crop_to_maximum_length\n",
    "from utils_display import pc"
   ]
  },
  {
   "cell_type": "code",
   "execution_count": 2,
   "id": "9bad624c-d520-4147-a74f-65e9155b12a9",
   "metadata": {},
   "outputs": [],
   "source": [
    "import spacy\n",
    "from collections import Counter\n",
    "nlp = spacy.load(\"en_core_web_sm\")\n",
    "from transformers import AutoTokenizer"
   ]
  },
  {
   "cell_type": "code",
   "execution_count": 3,
   "id": "72ad7ed0-fd51-4133-9316-e5b153cd797b",
   "metadata": {},
   "outputs": [],
   "source": [
    "with open(\"local_datasets/wikipedia_man_o_war.txt\", \"r\") as fid:\n",
    "    text = fid.read()"
   ]
  },
  {
   "cell_type": "code",
   "execution_count": 4,
   "id": "9671750a-8a72-4d52-8279-ce2d87c2d5f8",
   "metadata": {},
   "outputs": [],
   "source": [
    "text = text.replace(\"\\n\", \" \")\n",
    "while \"  \" in text:\n",
    "    text = text.replace(\"  \", \" \")"
   ]
  },
  {
   "cell_type": "code",
   "execution_count": 5,
   "id": "b991e851-e1ce-47ae-9338-af86461c12b8",
   "metadata": {},
   "outputs": [
    {
     "name": "stdout",
     "output_type": "stream",
     "text": [
      "\u001b[34m0\u001b[0m: Portuguese man o' war\n",
      "\u001b[34m1\u001b[0m: The Portuguese man o' war (Physalia physalis), also known as the man-of-war or bluebottle, is a marine hydrozoan found in the Atlantic, Indian, and Pacific oceans.\n",
      "\u001b[34m2\u001b[0m: While it is typically considered the only species in its genus, Physalia, and family, Physaliidae, genetic evidence suggests there may be more.\n",
      "\u001b[34m3\u001b[0m: Although it superficially resembles a jellyfish, the Portuguese man o' war is in fact a siphonophore.\n",
      "\u001b[34m4\u001b[0m: Like all siphonophores, it is a colonial organism, made up of many smaller units called zooids.\n",
      "\u001b[34m5\u001b[0m: Although they are morphologically quite different, all of the zooids in a single specimen are genetically identical.\n",
      "\u001b[34m6\u001b[0m: These different types of zooids fulfill specialized functions, such as hunting, digestion and reproduction, and together they allow the colony to operate as a single individual.\n",
      "\u001b[34m7\u001b[0m: The man o' war is part of the neuston, organisms that live on the surface of the water.\n",
      "\u001b[34m8\u001b[0m: A gas-filled bladder called the pneumatophore provides buoyancy that lets the animal stay afloat on the surface of the water while its tentacles, which can be up to 30 m (100 ft) long, hang below the surface, containing venomous cnidocytes that help capture prey.\n",
      "\u001b[34m9\u001b[0m: The cnidocytes can deliver a sting powerful enough to kill fish, crustaceans, and in some cases, humans.\n",
      "\u001b[34m10\u001b[0m: A sail on the pneumatophore propels it about the sea, sometimes in groups as large as 1,000 individuals.\n",
      "\u001b[34m11\u001b[0m: The sail may be left or right-handed, based on what direction the wind catches it.\n",
      "\u001b[34m12\u001b[0m: Etymology\n",
      "\u001b[34m13\u001b[0m: The name man o’ war comes from the man-of-war, a sailing warship, and the animal's resemblance to the Portuguese version (the caravel) at full sail.\n",
      "\u001b[34m14\u001b[0m: The genus name Physalia and species name physalis are both derived from the Greek word physalis, meaning \"bubble\" or \"bladder\".\n",
      "\u001b[34m15\u001b[0m: Taxonomy The Portuguese man o' war was first described by Carl Linneaus in the 10th edition of his Systema Naturae under the name Holothuria physalis.\n",
      "\u001b[34m16\u001b[0m: The species was moved to the genus Physalia by Jean-Baptiste Lamarck in 1801 and family Physaliidae by Brandt in 1835.\n",
      "\u001b[34m17\u001b[0m: Physalia physalis is typically regarded as the only species in its genus, Physalia, and family, Physaliidae.\n",
      "\u001b[34m18\u001b[0m: The existence of other species is controversial.\n",
      "\u001b[34m19\u001b[0m: Physalia utriculus, identified by a smaller float and a single long fishing tentacle, is often considered a separate species.\n",
      "\u001b[34m20\u001b[0m: These characteristics however are also present in juvenile specimens of Physalia physalis.\n",
      "\u001b[34m21\u001b[0m: Other morphological evidence has proved inconclusive as well; while variation does exist, it is hard to determine whether it represents the existence of separate species or simply variety within a single species.\n",
      "\u001b[34m22\u001b[0m: Genetic evidence suggests that different species do indeed exist.\n",
      "\u001b[34m23\u001b[0m: A 2012 study using specimens from New Zealand identified three distinct lineages and the existence of up to ten species or possibly a species complex.\n",
      "\u001b[34m24\u001b[0m: A 2024 study using specimens from around the world identified five clear lineages representing at least four distinct species: Physalia minuta which has a small green-tinted pneumatophore with a short sail and short tentacles from the Southwest Pacific, Physalia megalista which has a long and slender pneumatophore from the South Atlantic and South Indian, Physalia urticulus which has a short sail and single tentacle found worldwide, as well as the original Physalia physalis from the Atlantic.\n",
      "\u001b[34m25\u001b[0m: Phylogeny Physaliidae is one of two families, the other being Rhizophysidae, in the siphonophore suborder Cystonectae.\n",
      "\u001b[34m26\u001b[0m: Cystonectae was the earliest group of siphonophores to diverge, and as such mantain many ancestral characteristics, such as dioecy and the presence of palpons.\n",
      "\u001b[34m27\u001b[0m: The below cladogram is based on Munro and colleagues (2018).\n",
      "\u001b[34m28\u001b[0m: Description Like all siphonophores, the man o' war is a colonial organism: each animal is composed of many smaller units (zooids) that hang in clusters from under a large, gas-filled structure called the pneumatophore.\n",
      "\u001b[34m29\u001b[0m: The individual zooids in a colony are evolutionarily derived from either polyps or medusae, i.e. the two basic body plans of cnidarians.\n",
      "\u001b[34m30\u001b[0m: Both of these body plans comprise entire individuals in non-colonial cnidarians (for example, a jellyfish is a medusa, while a sea anemone is a polyp).\n",
      "\u001b[34m31\u001b[0m: All zooids in a man o' war develop from the same single fertilized egg and are therefore genetically identical.\n",
      "\u001b[34m32\u001b[0m: They remain physiologically connected throughout life, and essentially function as organs in a shared body.\n",
      "\u001b[34m33\u001b[0m: Hence, a Portuguese man o' war constitutes a single organism from an ecological perspective, but is made up of many individuals from an embryological perspective.\n",
      "\u001b[34m34\u001b[0m: Seven different types of zooids have been described in the man o' war, and these all depend on each other for survival and performing different functions, such as digestion (gastrozooids), reproduction (gonozooids) and hunting (dactylozooids).\n",
      "\u001b[34m35\u001b[0m: Three of these types of zooids are of the medusoid type (gonophores, nectophores, and vestigial nectophores), while the remaining four are of the polypoid type (free gastrozooids, tentacle-bearing zooids, gonozooids and gonopalpons).\n",
      "\u001b[34m36\u001b[0m: However, naming and categorization of zooids varies between authors, and much of the embryonic and evolutionary relationships of zooids remains unclear.\n",
      "\u001b[34m37\u001b[0m: New zooids are added by budding as the colony grows.\n",
      "\u001b[34m38\u001b[0m: Long tentacles hang below the float as the animal drifts, fishing for prey to sting and drag up to its digestive zooids.\n",
      "\u001b[34m39\u001b[0m: The main reproductive zooids, the gonophores, are situated on branching structures called gonodendra.\n",
      "\u001b[34m40\u001b[0m: Gonophores produce sperm or eggs.\n",
      "\u001b[34m41\u001b[0m: Besides gonophores, each gonodendron also contains several other zooids: gastrozooids, palpons (gastrozooids that lack tentacles), nectophores (which have been speculated to allow detached gonodendra to swim), and vestigial nectophores (also called jelly polyps; the function of these is unclear).\n",
      "\u001b[34m42\u001b[0m: The pneumatophore or bladder is the most conspicuous part of the man o' war.\n",
      "\u001b[34m43\u001b[0m: It is filled with gas produced by a gas gland, and can reach over 12 inches (30 cm) long, 5 inches (13 cm) wide, and 15 centimetres (5.9 in) tall.\n",
      "\u001b[34m44\u001b[0m: The pneumatophore functions as both a flotation device and a sail, allowing the animal to move with the prevailing wind.\n",
      "\u001b[34m45\u001b[0m: The gas in the pneumatophore is mostly air which diffuses in from the surrounding atmosphere, but it also contains as much as 13% carbon monoxide which is actively produced by the animal.\n",
      "\u001b[34m46\u001b[0m: In the event of a surface attack, the pneumatophore can be deflated, allowing the animal to temporarily submerge.\n",
      "\u001b[34m47\u001b[0m: The colony hunts and feeds through the cooperation of two types of zooids: the \"tentacular palpons\" from which the tentacles grow, and the gastrozooids.\n",
      "\u001b[34m48\u001b[0m: The tentacles are typically about 10 m (30 ft) in length but can reach over 30 m (100 ft).\n",
      "\u001b[34m49\u001b[0m: Each tentacle bears tiny, coiled, thread-like structures called nematocysts.\n",
      "\u001b[34m50\u001b[0m: Nematocysts trigger and inject venom on contact, stinging, paralyzing, and killing molluscs and fishes.\n",
      "\u001b[34m51\u001b[0m: The gastrozooids surround and digest the food by secreting digestive enzymes.\n",
      "\u001b[34m52\u001b[0m: Large groups of Portuguese man o' war, sometimes over 1,000 individuals, may reduce fishery populations.\n",
      "\u001b[34m53\u001b[0m: Life cycle Man o' war individuals are dioecious, meaning each colony is either male or female.\n",
      "\u001b[34m54\u001b[0m: Gonophores producing either sperm or eggs (depending on the sex of the colony) sit on a tree-like structure called a gonodendron, which is believed to drop off from the colony during reproduction.\n",
      "\u001b[34m55\u001b[0m: The eggs and sperm are released from gonophores directly into the water.\n",
      "\u001b[34m56\u001b[0m: As neither fertilization nor early development has been directly observed in the wild, it is not yet known at what depth these occur.\n",
      "\u001b[34m57\u001b[0m: A fertilized man o' war egg develops into a planula that buds off new zooids as it grows, gradually forming a new colony.\n",
      "\u001b[34m58\u001b[0m: This development initially occurs under the water, and has been reconstructed by comparing different stages of planulae collected at sea.\n",
      "\u001b[34m59\u001b[0m: The first two structures to emerge are the pneumatophore (sail) and a single, early feeding zooid called a protozooid.\n",
      "\u001b[34m60\u001b[0m: Later, gastrozooids and tentacle-bearing zooids are added.\n",
      "\u001b[34m61\u001b[0m: Eventually, the growing pneumatophore becomes buoyant enough to carry the immature colony on the surface of the water.\n",
      "\u001b[34m62\u001b[0m: Ecology Habitat\n",
      "\u001b[34m63\u001b[0m: The Portuguese man o' war is a member of the neuston, organisms that live on the surface of bodies of water.\n",
      "\u001b[34m64\u001b[0m: This community is exposed to a unique set of environmental conditions including prolonged exposure to intense ultraviolet light, risk of desiccation, and rough sea conditions.\n",
      "\u001b[34m65\u001b[0m: The gas-filled bladder, or pneumatophore, remains at the surface, while the remainder is submerged.\n",
      "\u001b[34m66\u001b[0m: The animal has no means of propulsion; it moves passively, driven by the winds, currents, and tides.\n",
      "\u001b[34m67\u001b[0m: Winds can drive them into bays or onto beaches.\n",
      "\u001b[34m68\u001b[0m: The Portuguese man o' war is well known to beachgoers for the painful stings delivered by its tentacles.\n",
      "\u001b[34m69\u001b[0m: Because they can sting while beached, the discovery of a man o' war washed up on a beach may lead to the closure of the beach.\n",
      "\u001b[34m70\u001b[0m: Predators and prey The Portuguese man o' war is a carnivore.\n",
      "\u001b[34m71\u001b[0m: Using its venomous tentacles, it traps and paralyzes its prey while reeling it inwards to its digestive polyps.\n",
      "\u001b[34m72\u001b[0m: It typically feeds on small fish, molluscs, small crustaceans, and zooplankton.\n",
      "\u001b[34m73\u001b[0m: The organism has few predators; one example is the loggerhead sea turtle, which feeds on the Portuguese man o' war as a common part of its diet.\n",
      "\u001b[34m74\u001b[0m: The turtle's skin, including that of its tongue and throat, is too thick for the stings to penetrate.\n",
      "\u001b[34m75\u001b[0m: The blue sea slug (aka blue dragon) also specializes in feeding on the Portuguese man o' war, as does the violet sea snail.\n",
      "\u001b[34m76\u001b[0m: The ocean sunfish's diet, once thought to consist mainly of jellyfish, has been found to include many species, including the Portuguese man o' war.\n",
      "\u001b[34m77\u001b[0m: Commensalism and symbiosis The Portuguese man o' war is often found with a variety of other marine fish, including yellow jack.\n",
      "\u001b[34m78\u001b[0m: These fish benefit from the shelter from predators provided by the stinging tentacles, and for the Portuguese man o' war, the presence of these species may attract other fish to eat.\n",
      "\u001b[34m79\u001b[0m: The blanket octopus is immune to the venom of the Portuguese man o' war.\n",
      "\u001b[34m80\u001b[0m: Individuals have been observed to carry broken man o' war tentacles, which males and immature females rip off and use for offensive and defensive purposes.\n",
      "\u001b[34m81\u001b[0m: The man-of-war fish is known to be able to live surrounded by the tentacles of the Portuguese man o' war, having at least one antigen to the man o' war's toxin, although still avoids being stung by swimming around them.\n",
      "\u001b[34m82\u001b[0m: The fish feeds on the tentacles and gonads of the man o' war, and may incentivize other fish to approach it, facilitating a quick and easy meal for the siphonophore, making the relationship potentially mutualistic.\n",
      "\u001b[34m83\u001b[0m: Blooms Cnidarians go through periods of large bursts in population growth called Jellyfish blooms.\n",
      "\u001b[34m84\u001b[0m: These bloom events cause adverse affects to the food web.\n",
      "\u001b[34m85\u001b[0m: Men o' war in large populations can disturb the prey of fish, such as smaller larval fish, or compete for the same resources as them, resulting in the ripple effect disrupting the food web.\n",
      "\u001b[34m86\u001b[0m: Coastal communities are affected by their large numbers because of their disruption to the fish, leading to the reduction in catches, as well as damage to fishing supplies.\n",
      "\u001b[34m87\u001b[0m: Future bloom events are expected to multiply as the climate changes, further affecting the oceanic wildlife in areas the man o' war occupies.\n",
      "\u001b[34m88\u001b[0m: Venom\n",
      "\u001b[34m89\u001b[0m: The stinging, venom-filled nematocysts in the tentacles of the Portuguese man o' war can paralyze small fish and other prey.\n",
      "\u001b[34m90\u001b[0m: Detached tentacles and dead specimens (including those that wash up on shore) can sting just as painfully as those of the live organism in the water and may remain potent for hours or even days after the death of the organism or the detachment of the tentacle.\n",
      "\u001b[34m91\u001b[0m: Stings usually cause severe pain to humans, lasting one to three hours.\n",
      "\u001b[34m92\u001b[0m: Red, whip-like welts appear on the skin that last two or three days after the sting.\n",
      "\u001b[34m93\u001b[0m: In some cases, the venom may travel to the lymph nodes and may cause symptoms that mimic an allergic reaction, including swelling of the larynx, airway blockage, cardiac distress and shortness of breath.\n",
      "\u001b[34m94\u001b[0m: Other symptoms may include fever, circulatory shock and, in extreme cases, even death, although this is extremely rare.\n",
      "\u001b[34m95\u001b[0m: Medical attention for those exposed to large numbers of tentacles may become necessary to relieve pain or open airways if the pain becomes excruciating or lasts for more than three hours, or if breathing becomes difficult.\n",
      "\u001b[34m96\u001b[0m: Instances in which the stings completely surround the trunk of a young child are among those that may be fatal.\n",
      "\u001b[34m97\u001b[0m: The species is responsible for up to 10,000 human stings in Australia each summer, particularly on the east coast, with some others occurring off the coast of South Australia and Western Australia.\n",
      "\u001b[34m98\u001b[0m: Treatment Stings from a Portuguese man o' war can result in severe dermatitis characterized by long, thin, open wounds that resemble those caused by a whip.\n",
      "\u001b[34m99\u001b[0m: These are not caused by any impact or cutting action, but by irritating urticariogenic substances in the tentacles.\n",
      "\u001b[34m100\u001b[0m: Treatment for sting pain is immersion in 45 °C (113 °F) water for 20 minutes.\n",
      "\u001b[34m101\u001b[0m: The cnidocyte found in the box jellyfish react differently than the nematocyst in the Portuguese man o' war; cnidocytes are inhibited by application of vinegar, but nematocysts can discharge more venom if vinegar is applied.\n",
      "\u001b[34m102\u001b[0m: Drifting dynamics The man o' war uses a float filled with carbon monoxide and air as a sail to travel by wind for thousands of miles, dragging behind long tentacles that deliver a deadly venomous sting to fish.\n",
      "\u001b[34m103\u001b[0m: This sailing ability, combined with a painful sting and a life cycle with seasonal blooms, results in periodic mass beach strandings and occasional human envenomations, making the man o' war the most well-known of the siphonophores.\n",
      "\u001b[34m104\u001b[0m: Despite being a common occurrence, the origin of the man o' war or bluebottle before reaching the coastline is not well understood, and neither is the way it drifts at the surface of the ocean.\n",
      "\u001b[34m105\u001b[0m: It is thought that this drifting, controlled by the direct influence of wind drag, is what leads mass amounts of men o' war to wash up on beaches.\n",
      "\u001b[34m106\u001b[0m: Moderately strong winds, around 5 m/s, produce drifting velocities significantly higher than the typical speed of ocean currents.\n",
      "\u001b[34m107\u001b[0m: When they get closer to the coast, they start to experience the influence of the slope-shelf currents, which are strong even in light winds.\n",
      "\u001b[34m108\u001b[0m: Because of its long tentacles, these currents can overtake the wind drift and wash them ashore.\n",
      "\u001b[34m109\u001b[0m: Left- and right-handedness Drifting is mainly determined by wind, similar to drift migration seen in migrating birds.\n",
      "\u001b[34m110\u001b[0m: Which direction they drift from wind influence is determined by their dimorphism.\n",
      "\u001b[34m111\u001b[0m: The man o' war has two forms of their enlarged pneumatophores that affect drift; left-handed, which shifts to the right of the downwind direction and right-handed, which moves to the left of the downwind.\n",
      "\u001b[34m112\u001b[0m: In strong winds, it drifts with its float oriented in the same direction of the wind.\n",
      "\u001b[34m113\u001b[0m: The Portuguese man o' war is asymmetrically shaped: the zooids hang down from either the right or left side of the midline of the pneumatophore or bladder.\n",
      "\u001b[34m114\u001b[0m: The pneumatophore can be oriented towards the left or the right.\n",
      "\u001b[34m115\u001b[0m: This phenomenon may be an adaptation that prevents an entire population from being washed on shore to die.\n",
      "\u001b[34m116\u001b[0m: The \"left-handed\" animals sail to the right of the wind, while the \"right-handed\" animals sail to the left.\n",
      "\u001b[34m117\u001b[0m: The wind will always push the two types in opposite directions, so at most half the population will be pushed towards the coast.\n",
      "\u001b[34m118\u001b[0m: Regional populations can have substantial differences in float size and the number of tentacles used for hunting.\n",
      "\u001b[34m119\u001b[0m: The regional form previously known as Physalia utriculus has a bladder rarely exceeding 10 centimetres (4 in) in length and has one long hunting tentacle that is less than 3 metres (10 ft) long.\n",
      "\u001b[34m120\u001b[0m: In comparison, the typical man o' war has a float of around 15 to 30 centimetres (5.9 to 12 in), and several hunting tentacles that can reach 30 metres (100 ft) in mature colonies when fully extended.\n",
      "\u001b[34m121\u001b[0m: When combined with the trailing action of the tentacles, this left- or right-handedness makes the colony sail sideways relative to the wind, by about 45° in either direction.\n",
      "\u001b[34m122\u001b[0m: Colony handedness has therefore been theorized to influence man o' war migration, with left-handed or right-handed colonies potentially being more likely to drift down particular respective sea routes.\n",
      "\u001b[34m123\u001b[0m: Handedness develops early in the colony's life, while it is still living below the surface of the sea.\n",
      "\u001b[34m124\u001b[0m: Mathematical modelling Since they have no propulsion system, the movement of the man o' war can be modelled mathematically by calculating the forces acting on it, or by advecting virtual particles in ocean and atmospheric circulation models.\n",
      "\u001b[34m125\u001b[0m: Earlier studies modelled the movement of the man o' war with Lagrangian particle tracking to explain major beaching events.\n",
      "\u001b[34m126\u001b[0m: In 2017, Ferrer and Pastor were able to estimate the region of origin of a significant beaching event on the southeastern Bay of Biscay.\n",
      "\u001b[34m127\u001b[0m: They ran a Lagrangian model backwards in time, using wind velocity and a wind drag coefficient as drivers of the man o' war motion.\n",
      "\u001b[34m128\u001b[0m: They found that the region of origin was the North Atlantic subtropical gyre.\n",
      "\u001b[34m129\u001b[0m: In 2015 Prieto et al. included both the effect of the surface currents and wind to predict the initial colony position prior to major beaching events in the Mediterranean.\n",
      "\u001b[34m130\u001b[0m: This model assumed the man o' war was advected by the surface currents, with the effect of the wind being added with a much higher wind drag coefficient of 10%.\n",
      "\u001b[34m131\u001b[0m: Similarly, in 2020 Headlam et al. used beaching and offshore observations to identify a region of origin, using the joint effects of surface currents and wind drag, for the largest mass man o' war beaching on the Irish coastline in over 150 years.\n",
      "\u001b[34m132\u001b[0m: These earlier studies used numerical models in combination with simple assumptions to calculate the drift of this species, excluding complex drifting dynamics.\n",
      "\u001b[34m133\u001b[0m: In 2021, Lee et al. provide a parameterisation for Lagrangian modelling of the bluebottle by considering the similarities between the bluebottle and a sailboat.\n",
      "\u001b[34m134\u001b[0m: This allowed them to compute the hydrodynamic and aerodynamic forces acting on the bluebottle and use an equilibrium condition to create a generalised model for calculating the drifting speed and course of the bluebottle under any wind and ocean current conditions.\n"
     ]
    }
   ],
   "source": [
    "sentences = [i for i in nlp(text).sents]\n",
    "for i, s in enumerate(sentences):\n",
    "    pc(i, s)"
   ]
  },
  {
   "cell_type": "code",
   "execution_count": 6,
   "id": "8ffab1f8-54cf-4e29-b34a-762e6de80c68",
   "metadata": {},
   "outputs": [
    {
     "name": "stdout",
     "output_type": "stream",
     "text": [
      "['portuguese', 'man', 'o', \"'\", 'war']\n"
     ]
    }
   ],
   "source": [
    "model_checkpoint = \"distilbert-base-uncased\"\n",
    "tokenizer = AutoTokenizer.from_pretrained(model_checkpoint)\n",
    "\n",
    "tokens = []\n",
    "for s in sentences:        \n",
    "    tokens.append(tokenizer.tokenize(str(s)))\n",
    "print(tokens[0])"
   ]
  },
  {
   "cell_type": "code",
   "execution_count": 7,
   "id": "63e10f45-ca37-48ce-97f1-eee56e223eb7",
   "metadata": {},
   "outputs": [],
   "source": [
    "dico_word2index, dico_index2word = build_vocabulary(texts=tokens)"
   ]
  },
  {
   "cell_type": "code",
   "execution_count": 8,
   "id": "ae232506-ac9e-4644-8ad3-5e42931b1504",
   "metadata": {},
   "outputs": [
    {
     "name": "stdout",
     "output_type": "stream",
     "text": [
      "\u001b[34m20 most frequent words\u001b[0m: [('the', 209), (',', 177), ('.', 134), ('of', 102), ('and', 85), ('to', 67), ('a', 65), ('in', 57), ('war', 49), ('is', 47), ('man', 46), ('o', 46), (\"'\", 45), ('The', 43), ('as', 31), ('-', 29), ('by', 29), ('(', 28), (')', 28), ('or', 27)]\n",
      "\u001b[34m20 least frequent words\u001b[0m: [('assumptions', 1), ('calculate', 1), ('excluding', 1), ('2021', 1), ('Lee', 1), ('provide', 1), ('parameterisation', 1), ('considering', 1), ('similarities', 1), ('sailboat', 1), ('allowed', 1), ('compute', 1), ('hydrodynamic', 1), ('aerodynamic', 1), ('equilibrium', 1), ('condition', 1), ('create', 1), ('generalised', 1), ('course', 1), ('current', 1)]\n"
     ]
    }
   ],
   "source": [
    "words_frequency = {}\n",
    "for sentence in sentences:\n",
    "    for word in sentence:\n",
    "        \n",
    "        if str(word) in words_frequency:\n",
    "            words_frequency[str(word)] += 1\n",
    "        else:\n",
    "            words_frequency[str(word)] = 1\n",
    "\n",
    "words_frequency = sorted(words_frequency.items(), key=lambda x:x[1], reverse=True)\n",
    "\n",
    "number_of_examples = 20\n",
    "pc(\"{} most frequent words\".format(number_of_examples), words_frequency[:number_of_examples])\n",
    "pc(\"{} least frequent words\".format(number_of_examples), words_frequency[-number_of_examples:])"
   ]
  },
  {
   "cell_type": "code",
   "execution_count": 9,
   "id": "d6ad032c-0d8c-4957-867c-2beb95234833",
   "metadata": {},
   "outputs": [
    {
     "name": "stdout",
     "output_type": "stream",
     "text": [
      "\u001b[34mInput sentence\u001b[0m: The genus name Physalia and species name physalis are both derived from the Greek word physalis, meaning \"bubble\" or \"bladder\".\n",
      "\u001b[34mWord tokens\u001b[0m: ['the', 'genus', 'name', 'ph', '##ys', '##alia', 'and', 'species', 'name', 'ph', '##ys', '##alis', 'are', 'both', 'derived', 'from', 'the', 'greek', 'word', 'ph', '##ys', '##alis', ',', 'meaning', '\"', 'bubble', '\"', 'or', '\"', 'bladder', '\"', '.']\n",
      "\u001b[34mInput indices\u001b[0m: [3, 153, 165, 26, 27, 48, 7, 39, 165, 26, 27, 82, 32, 166, 293, 28, 3, 488, 489, 26, 27, 82, 4, 294, 65, 490, 65, 23, 65, 109, 65, 5]\n"
     ]
    }
   ],
   "source": [
    "input_sentence = sentences[14]\n",
    "word_tokens = tokenizer.tokenize(str(input_sentence))\n",
    "input_indices = [dico_word2index.get(w, '[UNK]') for w in word_tokens]\n",
    "\n",
    "pc(\"Input sentence\", input_sentence)\n",
    "pc(\"Word tokens\", word_tokens)\n",
    "pc(\"Input indices\", input_indices)"
   ]
  },
  {
   "cell_type": "code",
   "execution_count": 10,
   "id": "475e9cbb-5f1e-4312-86d9-4e5770d1d127",
   "metadata": {},
   "outputs": [],
   "source": [
    "masking_probability = 0.15\n",
    "label_for_unmasked_values = -100\n",
    "maximum_sequence_length = 50\n",
    "mask_index = dico_word2index[\"[MASK]\"]\n",
    "pad_index = dico_word2index[\"[PAD]\"]"
   ]
  },
  {
   "cell_type": "code",
   "execution_count": 11,
   "id": "719ffb50-1049-4b29-8b86-60851c9b62c9",
   "metadata": {},
   "outputs": [
    {
     "name": "stderr",
     "output_type": "stream",
     "text": [
      "An NVIDIA GPU may be present on this machine, but a CUDA-enabled jaxlib is not installed. Falling back to cpu.\n"
     ]
    },
    {
     "name": "stdout",
     "output_type": "stream",
     "text": [
      "Before padding / cropping\n",
      "\u001b[34mInput indices\u001b[0m: [  3 153 165  26  27  48   7  39 165  26  27  82  32 166 293  28   3 488\n",
      " 489  26  27  82   4 294  65 490  65  23  65 109  65   5]\n",
      "\u001b[34mMask\u001b[0m: [0 1 0 1 0 1 0 0 0 0 0 0 0 0 1 0 0 0 0 0 1 0 0 1 0 0 0 0 0 0 0 0]\n",
      "\u001b[34mMasked indices\u001b[0m: [  3   0 165   0  27   0   7  39 165  26  27  82  32 166   0  28   3 488\n",
      " 489  26   0  82   4   0  65 490  65  23  65 109  65   5]\n",
      "\u001b[34mLabels\u001b[0m: [-100  153 -100   26 -100   48 -100 -100 -100 -100 -100 -100 -100 -100\n",
      "  293 -100 -100 -100 -100 -100   27 -100 -100  294 -100 -100 -100 -100\n",
      " -100 -100 -100 -100]\n"
     ]
    }
   ],
   "source": [
    "input_indices, mask, masked_indices, labels = apply_random_masking(                                                                                              \n",
    "    input_indices=input_indices,                                                                                                 \n",
    "    index_for_masked_values=mask_index,\n",
    "    label_for_unmasked_values=label_for_unmasked_values,                                                                                 \n",
    "     masking_probability=masking_probability)\n",
    "\n",
    "print(\"Before padding / cropping\")\n",
    "pc(\"Input indices\", input_indices)\n",
    "pc(\"Mask\", mask)\n",
    "pc(\"Masked indices\", masked_indices)\n",
    "pc(\"Labels\", labels)"
   ]
  },
  {
   "cell_type": "code",
   "execution_count": 12,
   "id": "ade41242-8bd7-4daf-85e4-00b6652de76b",
   "metadata": {},
   "outputs": [
    {
     "name": "stdout",
     "output_type": "stream",
     "text": [
      "After padding / cropping\n",
      "\u001b[34mInput indices\u001b[0m: [  3 153 165  26  27  48   7  39 165  26  27  82  32 166 293  28   3 488\n",
      " 489  26  27  82   4 294  65 490  65  23  65 109  65   5   1   1   1   1\n",
      "   1   1   1   1   1   1   1   1   1   1   1   1   1   1]\n",
      "\u001b[34mMask\u001b[0m: [0 1 0 1 0 1 0 0 0 0 0 0 0 0 1 0 0 0 0 0 1 0 0 1 0 0 0 0 0 0 0 0 1 1 1 1 1\n",
      " 1 1 1 1 1 1 1 1 1 1 1 1 1]\n",
      "\u001b[34mMasked indices\u001b[0m: [  3   0 165   0  27   0   7  39 165  26  27  82  32 166   0  28   3 488\n",
      " 489  26   0  82   4   0  65 490  65  23  65 109  65   5   1   1   1   1\n",
      "   1   1   1   1   1   1   1   1   1   1   1   1   1   1]\n",
      "\u001b[34mLabels\u001b[0m: [-100  153 -100   26 -100   48 -100 -100 -100 -100 -100 -100 -100 -100\n",
      "  293 -100 -100 -100 -100 -100   27 -100 -100  294 -100 -100 -100 -100\n",
      " -100 -100 -100 -100 -100 -100 -100 -100 -100 -100 -100 -100 -100 -100\n",
      " -100 -100 -100 -100 -100 -100 -100 -100]\n"
     ]
    }
   ],
   "source": [
    "input_indices = pad_and_crop_to_maximum_length(input_indices, padding_value=pad_index, maximum_sequence_length=maximum_sequence_length)\n",
    "mask = pad_and_crop_to_maximum_length(mask, padding_value=1, maximum_sequence_length=maximum_sequence_length)\n",
    "masked_indices = pad_and_crop_to_maximum_length(masked_indices, padding_value=pad_index, maximum_sequence_length=maximum_sequence_length)\n",
    "labels = pad_and_crop_to_maximum_length(labels, padding_value=-100, maximum_sequence_length=maximum_sequence_length)\n",
    "\n",
    "print(\"After padding / cropping\")\n",
    "pc(\"Input indices\", input_indices)\n",
    "pc(\"Mask\", mask)\n",
    "pc(\"Masked indices\", masked_indices)\n",
    "pc(\"Labels\", labels)"
   ]
  }
 ],
 "metadata": {
  "kernelspec": {
   "display_name": "Python 3 (ipykernel)",
   "language": "python",
   "name": "python3"
  },
  "language_info": {
   "codemirror_mode": {
    "name": "ipython",
    "version": 3
   },
   "file_extension": ".py",
   "mimetype": "text/x-python",
   "name": "python",
   "nbconvert_exporter": "python",
   "pygments_lexer": "ipython3",
   "version": "3.10.12"
  }
 },
 "nbformat": 4,
 "nbformat_minor": 5
}
