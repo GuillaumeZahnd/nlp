{
 "cells": [
  {
   "cell_type": "code",
   "execution_count": 1,
   "id": "813d8bf4-7125-4ab0-89cb-986f2f070169",
   "metadata": {},
   "outputs": [],
   "source": [
    "from question_answering_bert_finetuned_squad_wrapper import question_answering_bert_finetuned_squad_wrapper"
   ]
  },
  {
   "cell_type": "code",
   "execution_count": 26,
   "id": "74779fb0-0b6e-44e2-abc2-13d752f27ed1",
   "metadata": {},
   "outputs": [],
   "source": [
    "context = \"Normally the calendar advances 1 day, but you may choose to advance it 2 days instead. This privilege is subject to limitations: You cannot use this privilege if your board is darker side up. When you use this privilege, you must flip your board over to the darker side to show that you have used it. (If you reach the top step of a temple, you can flip it back, as explained in the next section, under 'Temples'.) You may not use this privilege to push off a worker that would not normally be pushed off a gear. In other words, you may not use this privilege if there is a worker on action space 6 of one of the four smallest gears or action space 9 of the Chichen Itza gear. Even if you cannot use the time-speeding privilege, you still get all the other benefits of choosing the Starting Player Space. It is not possible to use this privilege to avoid Food Days. If the next day on the Tzolk'in gear is a Food Day, you may still advance 2 days, but the new round will be the Food Day that was skipped over.\""
   ]
  },
  {
   "cell_type": "code",
   "execution_count": 36,
   "id": "e2f5ec9b-f9b8-4bdf-987f-1e009d806dbe",
   "metadata": {},
   "outputs": [],
   "source": [
    "question = \"How can a player flip their board back?\""
   ]
  },
  {
   "cell_type": "code",
   "execution_count": null,
   "id": "3c6a19d3-e481-4c52-a00d-dda44c168d0b",
   "metadata": {},
   "outputs": [],
   "source": [
    "answer = question_answering_bert_finetuned_squad_wrapper(context=context, question=question)"
   ]
  },
  {
   "cell_type": "code",
   "execution_count": 38,
   "id": "ce432d0e-953a-4597-9fbc-4ce8cacd9376",
   "metadata": {},
   "outputs": [
    {
     "name": "stdout",
     "output_type": "stream",
     "text": [
      "if you reach the top step of a temple\n"
     ]
    }
   ],
   "source": [
    "print(answer)"
   ]
  }
 ],
 "metadata": {
  "kernelspec": {
   "display_name": "Python 3 (ipykernel)",
   "language": "python",
   "name": "python3"
  },
  "language_info": {
   "codemirror_mode": {
    "name": "ipython",
    "version": 3
   },
   "file_extension": ".py",
   "mimetype": "text/x-python",
   "name": "python",
   "nbconvert_exporter": "python",
   "pygments_lexer": "ipython3",
   "version": "3.10.12"
  }
 },
 "nbformat": 4,
 "nbformat_minor": 5
}
