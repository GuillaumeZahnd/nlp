{
 "cells": [
  {
   "cell_type": "code",
   "execution_count": 1,
   "id": "a1cda90e-8db0-435a-b2b5-304856940516",
   "metadata": {},
   "outputs": [],
   "source": [
    "import os\n",
    "os.environ['TF_CPP_MIN_LOG_LEVEL'] = '3'"
   ]
  },
  {
   "cell_type": "code",
   "execution_count": 13,
   "id": "877310e4-2a00-4265-aee8-093a43fd6e69",
   "metadata": {},
   "outputs": [
    {
     "name": "stderr",
     "output_type": "stream",
     "text": [
      "[nltk_data] Downloading package punkt to /home/guillaume/nltk_data...\n",
      "[nltk_data]   Package punkt is already up-to-date!\n"
     ]
    }
   ],
   "source": [
    "import nltk\n",
    "nltk.download('punkt')\n",
    "from nltk.corpus import stopwords\n",
    "import string\n",
    "import re\n",
    "from unicodedata import normalize\n",
    "import json\n",
    "import tensorflow as tf"
   ]
  },
  {
   "cell_type": "code",
   "execution_count": 35,
   "id": "ba7a9b18-a310-46b9-ba38-d47163cab397",
   "metadata": {},
   "outputs": [
    {
     "name": "stdout",
     "output_type": "stream",
     "text": [
      "Defaulting to user installation because normal site-packages is not writeable\n",
      "Looking in indexes: https://pypi.org/simple, https://pypi.ngc.nvidia.com\n",
      "Requirement already satisfied: tf-keras in /home/guillaume/.local/lib/python3.10/site-packages (2.19.0)\n",
      "Requirement already satisfied: tensorflow<2.20,>=2.19 in /home/guillaume/.local/lib/python3.10/site-packages (from tf-keras) (2.19.0)\n",
      "Requirement already satisfied: absl-py>=1.0.0 in /home/guillaume/.local/lib/python3.10/site-packages (from tensorflow<2.20,>=2.19->tf-keras) (2.1.0)\n",
      "Requirement already satisfied: astunparse>=1.6.0 in /home/guillaume/.local/lib/python3.10/site-packages (from tensorflow<2.20,>=2.19->tf-keras) (1.6.3)\n",
      "Requirement already satisfied: flatbuffers>=24.3.25 in /home/guillaume/.local/lib/python3.10/site-packages (from tensorflow<2.20,>=2.19->tf-keras) (24.3.25)\n",
      "Requirement already satisfied: gast!=0.5.0,!=0.5.1,!=0.5.2,>=0.2.1 in /home/guillaume/.local/lib/python3.10/site-packages (from tensorflow<2.20,>=2.19->tf-keras) (0.6.0)\n",
      "Requirement already satisfied: google-pasta>=0.1.1 in /home/guillaume/.local/lib/python3.10/site-packages (from tensorflow<2.20,>=2.19->tf-keras) (0.2.0)\n",
      "Requirement already satisfied: libclang>=13.0.0 in /home/guillaume/.local/lib/python3.10/site-packages (from tensorflow<2.20,>=2.19->tf-keras) (18.1.1)\n",
      "Requirement already satisfied: opt-einsum>=2.3.2 in /home/guillaume/.local/lib/python3.10/site-packages (from tensorflow<2.20,>=2.19->tf-keras) (3.3.0)\n",
      "Requirement already satisfied: packaging in /home/guillaume/.local/lib/python3.10/site-packages (from tensorflow<2.20,>=2.19->tf-keras) (24.0)\n",
      "Requirement already satisfied: protobuf!=4.21.0,!=4.21.1,!=4.21.2,!=4.21.3,!=4.21.4,!=4.21.5,<6.0.0dev,>=3.20.3 in /home/guillaume/.local/lib/python3.10/site-packages (from tensorflow<2.20,>=2.19->tf-keras) (4.25.3)\n",
      "Requirement already satisfied: requests<3,>=2.21.0 in /home/guillaume/.local/lib/python3.10/site-packages (from tensorflow<2.20,>=2.19->tf-keras) (2.31.0)\n",
      "Requirement already satisfied: setuptools in /home/guillaume/.local/lib/python3.10/site-packages (from tensorflow<2.20,>=2.19->tf-keras) (69.2.0)\n",
      "Requirement already satisfied: six>=1.12.0 in /usr/lib/python3/dist-packages (from tensorflow<2.20,>=2.19->tf-keras) (1.16.0)\n",
      "Requirement already satisfied: termcolor>=1.1.0 in /home/guillaume/.local/lib/python3.10/site-packages (from tensorflow<2.20,>=2.19->tf-keras) (2.4.0)\n",
      "Requirement already satisfied: typing-extensions>=3.6.6 in /home/guillaume/.local/lib/python3.10/site-packages (from tensorflow<2.20,>=2.19->tf-keras) (4.10.0)\n",
      "Requirement already satisfied: wrapt>=1.11.0 in /home/guillaume/.local/lib/python3.10/site-packages (from tensorflow<2.20,>=2.19->tf-keras) (1.16.0)\n",
      "Requirement already satisfied: grpcio<2.0,>=1.24.3 in /home/guillaume/.local/lib/python3.10/site-packages (from tensorflow<2.20,>=2.19->tf-keras) (1.64.1)\n",
      "Requirement already satisfied: tensorboard~=2.19.0 in /home/guillaume/.local/lib/python3.10/site-packages (from tensorflow<2.20,>=2.19->tf-keras) (2.19.0)\n",
      "Requirement already satisfied: keras>=3.5.0 in /home/guillaume/.local/lib/python3.10/site-packages (from tensorflow<2.20,>=2.19->tf-keras) (3.10.0)\n",
      "Requirement already satisfied: numpy<2.2.0,>=1.26.0 in /home/guillaume/.local/lib/python3.10/site-packages (from tensorflow<2.20,>=2.19->tf-keras) (1.26.4)\n",
      "Requirement already satisfied: h5py>=3.11.0 in /home/guillaume/.local/lib/python3.10/site-packages (from tensorflow<2.20,>=2.19->tf-keras) (3.11.0)\n",
      "Requirement already satisfied: ml-dtypes<1.0.0,>=0.5.1 in /home/guillaume/.local/lib/python3.10/site-packages (from tensorflow<2.20,>=2.19->tf-keras) (0.5.1)\n",
      "Requirement already satisfied: tensorflow-io-gcs-filesystem>=0.23.1 in /home/guillaume/.local/lib/python3.10/site-packages (from tensorflow<2.20,>=2.19->tf-keras) (0.37.0)\n",
      "Requirement already satisfied: charset-normalizer<4,>=2 in /home/guillaume/.local/lib/python3.10/site-packages (from requests<3,>=2.21.0->tensorflow<2.20,>=2.19->tf-keras) (3.3.2)\n",
      "Requirement already satisfied: idna<4,>=2.5 in /home/guillaume/.local/lib/python3.10/site-packages (from requests<3,>=2.21.0->tensorflow<2.20,>=2.19->tf-keras) (3.6)\n",
      "Requirement already satisfied: urllib3<3,>=1.21.1 in /usr/lib/python3/dist-packages (from requests<3,>=2.21.0->tensorflow<2.20,>=2.19->tf-keras) (1.26.5)\n",
      "Requirement already satisfied: certifi>=2017.4.17 in /home/guillaume/.local/lib/python3.10/site-packages (from requests<3,>=2.21.0->tensorflow<2.20,>=2.19->tf-keras) (2024.2.2)\n",
      "Requirement already satisfied: markdown>=2.6.8 in /home/guillaume/.local/lib/python3.10/site-packages (from tensorboard~=2.19.0->tensorflow<2.20,>=2.19->tf-keras) (3.6)\n",
      "Requirement already satisfied: tensorboard-data-server<0.8.0,>=0.7.0 in /home/guillaume/.local/lib/python3.10/site-packages (from tensorboard~=2.19.0->tensorflow<2.20,>=2.19->tf-keras) (0.7.2)\n",
      "Requirement already satisfied: werkzeug>=1.0.1 in /home/guillaume/.local/lib/python3.10/site-packages (from tensorboard~=2.19.0->tensorflow<2.20,>=2.19->tf-keras) (3.0.3)\n",
      "Requirement already satisfied: wheel<1.0,>=0.23.0 in /usr/lib/python3/dist-packages (from astunparse>=1.6.0->tensorflow<2.20,>=2.19->tf-keras) (0.37.1)\n",
      "Requirement already satisfied: rich in /home/guillaume/.local/lib/python3.10/site-packages (from keras>=3.5.0->tensorflow<2.20,>=2.19->tf-keras) (13.7.1)\n",
      "Requirement already satisfied: namex in /home/guillaume/.local/lib/python3.10/site-packages (from keras>=3.5.0->tensorflow<2.20,>=2.19->tf-keras) (0.0.8)\n",
      "Requirement already satisfied: optree in /home/guillaume/.local/lib/python3.10/site-packages (from keras>=3.5.0->tensorflow<2.20,>=2.19->tf-keras) (0.11.0)\n",
      "Requirement already satisfied: MarkupSafe>=2.1.1 in /home/guillaume/.local/lib/python3.10/site-packages (from werkzeug>=1.0.1->tensorboard~=2.19.0->tensorflow<2.20,>=2.19->tf-keras) (2.1.5)\n",
      "Requirement already satisfied: markdown-it-py>=2.2.0 in /home/guillaume/.local/lib/python3.10/site-packages (from rich->keras>=3.5.0->tensorflow<2.20,>=2.19->tf-keras) (3.0.0)\n",
      "Requirement already satisfied: pygments<3.0.0,>=2.13.0 in /usr/local/lib/python3.10/dist-packages (from rich->keras>=3.5.0->tensorflow<2.20,>=2.19->tf-keras) (2.17.2)\n",
      "Requirement already satisfied: mdurl~=0.1 in /home/guillaume/.local/lib/python3.10/site-packages (from markdown-it-py>=2.2.0->rich->keras>=3.5.0->tensorflow<2.20,>=2.19->tf-keras) (0.1.2)\n",
      "Note: you may need to restart the kernel to use updated packages.\n",
      "Defaulting to user installation because normal site-packages is not writeable\n",
      "Looking in indexes: https://pypi.org/simple, https://pypi.ngc.nvidia.com\n",
      "Requirement already satisfied: sentence-transformers in /home/guillaume/.local/lib/python3.10/site-packages (4.1.0)\n",
      "Requirement already satisfied: transformers<5.0.0,>=4.41.0 in /home/guillaume/.local/lib/python3.10/site-packages (from sentence-transformers) (4.52.4)\n",
      "Requirement already satisfied: tqdm in /home/guillaume/.local/lib/python3.10/site-packages (from sentence-transformers) (4.66.4)\n",
      "Requirement already satisfied: torch>=1.11.0 in /home/guillaume/.local/lib/python3.10/site-packages (from sentence-transformers) (2.2.1)\n",
      "Requirement already satisfied: scikit-learn in /home/guillaume/.local/lib/python3.10/site-packages (from sentence-transformers) (1.5.0)\n",
      "Requirement already satisfied: scipy in /home/guillaume/.local/lib/python3.10/site-packages (from sentence-transformers) (1.10.0)\n",
      "Requirement already satisfied: huggingface-hub>=0.20.0 in /home/guillaume/.local/lib/python3.10/site-packages (from sentence-transformers) (0.33.0)\n",
      "Requirement already satisfied: Pillow in /home/guillaume/.local/lib/python3.10/site-packages (from sentence-transformers) (10.3.0)\n",
      "Requirement already satisfied: typing_extensions>=4.5.0 in /home/guillaume/.local/lib/python3.10/site-packages (from sentence-transformers) (4.10.0)\n",
      "Requirement already satisfied: filelock in /home/guillaume/.local/lib/python3.10/site-packages (from transformers<5.0.0,>=4.41.0->sentence-transformers) (3.13.3)\n",
      "Requirement already satisfied: numpy>=1.17 in /home/guillaume/.local/lib/python3.10/site-packages (from transformers<5.0.0,>=4.41.0->sentence-transformers) (1.26.4)\n",
      "Requirement already satisfied: packaging>=20.0 in /home/guillaume/.local/lib/python3.10/site-packages (from transformers<5.0.0,>=4.41.0->sentence-transformers) (24.0)\n",
      "Requirement already satisfied: pyyaml>=5.1 in /usr/lib/python3/dist-packages (from transformers<5.0.0,>=4.41.0->sentence-transformers) (5.4.1)\n",
      "Requirement already satisfied: regex!=2019.12.17 in /home/guillaume/.local/lib/python3.10/site-packages (from transformers<5.0.0,>=4.41.0->sentence-transformers) (2024.5.15)\n",
      "Requirement already satisfied: requests in /home/guillaume/.local/lib/python3.10/site-packages (from transformers<5.0.0,>=4.41.0->sentence-transformers) (2.31.0)\n",
      "Requirement already satisfied: tokenizers<0.22,>=0.21 in /home/guillaume/.local/lib/python3.10/site-packages (from transformers<5.0.0,>=4.41.0->sentence-transformers) (0.21.1)\n",
      "Requirement already satisfied: safetensors>=0.4.3 in /home/guillaume/.local/lib/python3.10/site-packages (from transformers<5.0.0,>=4.41.0->sentence-transformers) (0.5.3)\n",
      "Requirement already satisfied: fsspec>=2023.5.0 in /home/guillaume/.local/lib/python3.10/site-packages (from huggingface-hub>=0.20.0->sentence-transformers) (2024.3.1)\n",
      "Requirement already satisfied: hf-xet<2.0.0,>=1.1.2 in /home/guillaume/.local/lib/python3.10/site-packages (from huggingface-hub>=0.20.0->sentence-transformers) (1.1.3)\n",
      "Requirement already satisfied: sympy in /home/guillaume/.local/lib/python3.10/site-packages (from torch>=1.11.0->sentence-transformers) (1.12)\n",
      "Requirement already satisfied: networkx in /home/guillaume/.local/lib/python3.10/site-packages (from torch>=1.11.0->sentence-transformers) (3.2.1)\n",
      "Requirement already satisfied: jinja2 in /home/guillaume/.local/lib/python3.10/site-packages (from torch>=1.11.0->sentence-transformers) (3.1.3)\n",
      "Requirement already satisfied: nvidia-cuda-nvrtc-cu12==12.1.105 in /home/guillaume/.local/lib/python3.10/site-packages (from torch>=1.11.0->sentence-transformers) (12.1.105)\n",
      "Requirement already satisfied: nvidia-cuda-runtime-cu12==12.1.105 in /home/guillaume/.local/lib/python3.10/site-packages (from torch>=1.11.0->sentence-transformers) (12.1.105)\n",
      "Requirement already satisfied: nvidia-cuda-cupti-cu12==12.1.105 in /home/guillaume/.local/lib/python3.10/site-packages (from torch>=1.11.0->sentence-transformers) (12.1.105)\n",
      "Requirement already satisfied: nvidia-cudnn-cu12==8.9.2.26 in /home/guillaume/.local/lib/python3.10/site-packages (from torch>=1.11.0->sentence-transformers) (8.9.2.26)\n",
      "Requirement already satisfied: nvidia-cublas-cu12==12.1.3.1 in /home/guillaume/.local/lib/python3.10/site-packages (from torch>=1.11.0->sentence-transformers) (12.1.3.1)\n",
      "Requirement already satisfied: nvidia-cufft-cu12==11.0.2.54 in /home/guillaume/.local/lib/python3.10/site-packages (from torch>=1.11.0->sentence-transformers) (11.0.2.54)\n",
      "Requirement already satisfied: nvidia-curand-cu12==10.3.2.106 in /home/guillaume/.local/lib/python3.10/site-packages (from torch>=1.11.0->sentence-transformers) (10.3.2.106)\n",
      "Requirement already satisfied: nvidia-cusolver-cu12==11.4.5.107 in /home/guillaume/.local/lib/python3.10/site-packages (from torch>=1.11.0->sentence-transformers) (11.4.5.107)\n",
      "Requirement already satisfied: nvidia-cusparse-cu12==12.1.0.106 in /home/guillaume/.local/lib/python3.10/site-packages (from torch>=1.11.0->sentence-transformers) (12.1.0.106)\n",
      "Requirement already satisfied: nvidia-nccl-cu12==2.19.3 in /home/guillaume/.local/lib/python3.10/site-packages (from torch>=1.11.0->sentence-transformers) (2.19.3)\n",
      "Requirement already satisfied: nvidia-nvtx-cu12==12.1.105 in /home/guillaume/.local/lib/python3.10/site-packages (from torch>=1.11.0->sentence-transformers) (12.1.105)\n",
      "Requirement already satisfied: triton==2.2.0 in /home/guillaume/.local/lib/python3.10/site-packages (from torch>=1.11.0->sentence-transformers) (2.2.0)\n",
      "Requirement already satisfied: nvidia-nvjitlink-cu12 in /home/guillaume/.local/lib/python3.10/site-packages (from nvidia-cusolver-cu12==11.4.5.107->torch>=1.11.0->sentence-transformers) (12.4.99)\n",
      "Requirement already satisfied: MarkupSafe>=2.0 in /home/guillaume/.local/lib/python3.10/site-packages (from jinja2->torch>=1.11.0->sentence-transformers) (2.1.5)\n",
      "Requirement already satisfied: charset-normalizer<4,>=2 in /home/guillaume/.local/lib/python3.10/site-packages (from requests->transformers<5.0.0,>=4.41.0->sentence-transformers) (3.3.2)\n",
      "Requirement already satisfied: idna<4,>=2.5 in /home/guillaume/.local/lib/python3.10/site-packages (from requests->transformers<5.0.0,>=4.41.0->sentence-transformers) (3.6)\n",
      "Requirement already satisfied: urllib3<3,>=1.21.1 in /usr/lib/python3/dist-packages (from requests->transformers<5.0.0,>=4.41.0->sentence-transformers) (1.26.5)\n",
      "Requirement already satisfied: certifi>=2017.4.17 in /home/guillaume/.local/lib/python3.10/site-packages (from requests->transformers<5.0.0,>=4.41.0->sentence-transformers) (2024.2.2)\n",
      "Requirement already satisfied: joblib>=1.2.0 in /home/guillaume/.local/lib/python3.10/site-packages (from scikit-learn->sentence-transformers) (1.4.2)\n",
      "Requirement already satisfied: threadpoolctl>=3.1.0 in /home/guillaume/.local/lib/python3.10/site-packages (from scikit-learn->sentence-transformers) (3.5.0)\n",
      "Requirement already satisfied: mpmath>=0.19 in /home/guillaume/.local/lib/python3.10/site-packages (from sympy->torch>=1.11.0->sentence-transformers) (1.3.0)\n",
      "Note: you may need to restart the kernel to use updated packages.\n"
     ]
    }
   ],
   "source": [
    "%pip install tf-keras\n",
    "%pip install sentence-transformers\n",
    "# https://huggingface.co/sentence-transformers/all-MiniLM-L6-v2\n",
    "# https://www.sbert.net/\n",
    "from sentence_transformers import SentenceTransformer"
   ]
  },
  {
   "cell_type": "code",
   "execution_count": 3,
   "id": "588e6f78-5bfa-4e1d-ad5a-d73cd4489e1d",
   "metadata": {},
   "outputs": [],
   "source": [
    "# Load the SQuAD dataset\n",
    "with open(os.path.join('datasets', 'SQuAD2.0', 'train-v2.0.json'), 'r') as fid:\n",
    "    dataset = json.load(fid)\n",
    "dataset = dataset['data']"
   ]
  },
  {
   "cell_type": "code",
   "execution_count": 4,
   "id": "a452257c-e861-4c87-b655-44041e2a0bec",
   "metadata": {},
   "outputs": [],
   "source": [
    "# Create corpus\n",
    "def build_corpus():    \n",
    "    corpus = []    \n",
    "    for article in dataset:    \n",
    "        for paragraph in article['paragraphs']:\n",
    "            corpus.append(paragraph['context'])\n",
    "    return corpus"
   ]
  },
  {
   "cell_type": "code",
   "execution_count": 5,
   "id": "4f77e3ca-9b9f-4575-b346-ef44956be64e",
   "metadata": {},
   "outputs": [
    {
     "name": "stdout",
     "output_type": "stream",
     "text": [
      "There are 19035 samples.\n"
     ]
    }
   ],
   "source": [
    "corpus = build_corpus()\n",
    "number_of_samples = len(corpus)\n",
    "print('There are {} samples.'.format(number_of_samples))"
   ]
  },
  {
   "cell_type": "code",
   "execution_count": 6,
   "id": "2f33ec34-b446-4c6b-b51b-923f5e505c2d",
   "metadata": {},
   "outputs": [
    {
     "name": "stdout",
     "output_type": "stream",
     "text": [
      "Example sample (7329):\n",
      "\n",
      "A healthy, and legal, publishing industry existed throughout Europe, although established publishers and book sellers occasionally ran afoul of the law. The Encyclopédie, for example, condemned not only by the King but also by Clement XII, nevertheless found its way into print with the help of the aforementioned Malesherbes and creative use of French censorship law. But many works were sold without running into any legal trouble at all. Borrowing records from libraries in England, Germany and North America indicate that more than 70 percent of books borrowed were novels. Less than 1 percent of the books were of a religious nature, indicating the general trend of declining religiosity.\n"
     ]
    }
   ],
   "source": [
    "# Show a sample\n",
    "sample_index = 7329\n",
    "print('Example sample ({}):\\n'.format(sample_index))\n",
    "print(corpus[sample_index])"
   ]
  },
  {
   "cell_type": "code",
   "execution_count": 10,
   "id": "ad043e7d-7ec3-4e4f-baf6-b6049e5d3942",
   "metadata": {},
   "outputs": [
    {
     "name": "stdout",
     "output_type": "stream",
     "text": [
      "Stop words:\n",
      "\n",
      "['a', 'about', 'above', 'after', 'again', 'against', 'ain', 'all', 'am', 'an', 'and', 'any', 'are', 'aren', \"aren't\", 'as', 'at', 'be', 'because', 'been', 'before', 'being', 'below', 'between', 'both', 'but', 'by', 'can', 'couldn', \"couldn't\", 'd', 'did', 'didn', \"didn't\", 'do', 'does', 'doesn', \"doesn't\", 'doing', 'don', \"don't\", 'down', 'during', 'each', 'few', 'for', 'from', 'further', 'had', 'hadn', \"hadn't\", 'has', 'hasn', \"hasn't\", 'have', 'haven', \"haven't\", 'having', 'he', \"he'd\", \"he'll\", 'her', 'here', 'hers', 'herself', \"he's\", 'him', 'himself', 'his', 'how', 'i', \"i'd\", 'if', \"i'll\", \"i'm\", 'in', 'into', 'is', 'isn', \"isn't\", 'it', \"it'd\", \"it'll\", \"it's\", 'its', 'itself', \"i've\", 'just', 'll', 'm', 'ma', 'me', 'mightn', \"mightn't\", 'more', 'most', 'mustn', \"mustn't\", 'my', 'myself', 'needn', \"needn't\", 'no', 'nor', 'not', 'now', 'o', 'of', 'off', 'on', 'once', 'only', 'or', 'other', 'our', 'ours', 'ourselves', 'out', 'over', 'own', 're', 's', 'same', 'shan', \"shan't\", 'she', \"she'd\", \"she'll\", \"she's\", 'should', 'shouldn', \"shouldn't\", \"should've\", 'so', 'some', 'such', 't', 'than', 'that', \"that'll\", 'the', 'their', 'theirs', 'them', 'themselves', 'then', 'there', 'these', 'they', \"they'd\", \"they'll\", \"they're\", \"they've\", 'this', 'those', 'through', 'to', 'too', 'under', 'until', 'up', 've', 'very', 'was', 'wasn', \"wasn't\", 'we', \"we'd\", \"we'll\", \"we're\", 'were', 'weren', \"weren't\", \"we've\", 'what', 'when', 'where', 'which', 'while', 'who', 'whom', 'why', 'will', 'with', 'won', \"won't\", 'wouldn', \"wouldn't\", 'y', 'you', \"you'd\", \"you'll\", 'your', \"you're\", 'yours', 'yourself', 'yourselves', \"you've\"]\n"
     ]
    }
   ],
   "source": [
    "# Stopwords\n",
    "stopwords_english = stopwords.words('english')\n",
    "\n",
    "print('Stop words:\\n')\n",
    "print(stopwords_english)"
   ]
  },
  {
   "cell_type": "code",
   "execution_count": 11,
   "id": "d75b3338-abdf-43cd-b2bb-bf1e62cd35b9",
   "metadata": {},
   "outputs": [
    {
     "name": "stdout",
     "output_type": "stream",
     "text": [
      "\n",
      "Punctuation:\n",
      "\n",
      "!\"#$%&'()*+,-./:;<=>?@[\\]^_`{|}~\n"
     ]
    }
   ],
   "source": [
    "# Punctuation\n",
    "print('\\nPunctuation:\\n')\n",
    "print(string.punctuation)"
   ]
  },
  {
   "cell_type": "code",
   "execution_count": 18,
   "id": "e54fefca-1409-4e1d-bc55-e6009d558b3e",
   "metadata": {},
   "outputs": [],
   "source": [
    "def preprocess_text(s):    \n",
    "    s = str.lower(s)    \n",
    "    return s"
   ]
  },
  {
   "cell_type": "code",
   "execution_count": 25,
   "id": "4291ef2a-7481-438b-86ae-0b85ce2563b7",
   "metadata": {},
   "outputs": [
    {
     "name": "stdout",
     "output_type": "stream",
     "text": [
      "Pre-processed sample (7329):\n",
      "\n",
      "a healthy, and legal, publishing industry existed throughout europe, although established publishers and book sellers occasionally ran afoul of the law. the encyclopédie, for example, condemned not only by the king but also by clement xii, nevertheless found its way into print with the help of the aforementioned malesherbes and creative use of french censorship law. but many works were sold without running into any legal trouble at all. borrowing records from libraries in england, germany and north america indicate that more than 70 percent of books borrowed were novels. less than 1 percent of the books were of a religious nature, indicating the general trend of declining religiosity.\n"
     ]
    }
   ],
   "source": [
    "preprocessed_corpus = [preprocess_text(s) for s in corpus]\n",
    "\n",
    "print('Pre-processed sample ({}):\\n'.format(sample_index))\n",
    "print(preprocessed_corpus[sample_index])"
   ]
  },
  {
   "cell_type": "code",
   "execution_count": 31,
   "id": "8a0234ec-1929-4a8a-96be-f15dccb0d6b7",
   "metadata": {},
   "outputs": [
    {
     "name": "stdout",
     "output_type": "stream",
     "text": [
      "Word tokenizer (7329):\n",
      "\n",
      "['a', 'healthy', ',', 'and', 'legal', ',', 'publishing', 'industry', 'existed', 'throughout', 'europe', ',', 'although', 'established', 'publishers', 'and', 'book', 'sellers', 'occasionally', 'ran', 'afoul', 'of', 'the', 'law', '.', 'the', 'encyclopédie', ',', 'for', 'example', ',', 'condemned', 'not', 'only', 'by', 'the', 'king', 'but', 'also', 'by', 'clement', 'xii', ',', 'nevertheless', 'found', 'its', 'way', 'into', 'print', 'with', 'the', 'help', 'of', 'the', 'aforementioned', 'malesherbes', 'and', 'creative', 'use', 'of', 'french', 'censorship', 'law', '.', 'but', 'many', 'works', 'were', 'sold', 'without', 'running', 'into', 'any', 'legal', 'trouble', 'at', 'all', '.', 'borrowing', 'records', 'from', 'libraries', 'in', 'england', ',', 'germany', 'and', 'north', 'america', 'indicate', 'that', 'more', 'than', '70', 'percent', 'of', 'books', 'borrowed', 'were', 'novels', '.', 'less', 'than', '1', 'percent', 'of', 'the', 'books', 'were', 'of', 'a', 'religious', 'nature', ',', 'indicating', 'the', 'general', 'trend', 'of', 'declining', 'religiosity', '.']\n"
     ]
    }
   ],
   "source": [
    "word_text = nltk.tokenize.word_tokenize(text=preprocessed_corpus[sample_index], preserve_line=False)\n",
    "\n",
    "print('Word tokenizer ({}):\\n'.format(sample_index))\n",
    "print(word_text)"
   ]
  },
  {
   "cell_type": "code",
   "execution_count": 30,
   "id": "c9662707-225b-471d-b963-278443ad2650",
   "metadata": {},
   "outputs": [
    {
     "name": "stdout",
     "output_type": "stream",
     "text": [
      "Sentence tokenizer (7329):\n",
      "\n",
      "['a healthy, and legal, publishing industry existed throughout europe, although established publishers and book sellers occasionally ran afoul of the law.', 'the encyclopédie, for example, condemned not only by the king but also by clement xii, nevertheless found its way into print with the help of the aforementioned malesherbes and creative use of french censorship law.', 'but many works were sold without running into any legal trouble at all.', 'borrowing records from libraries in england, germany and north america indicate that more than 70 percent of books borrowed were novels.', 'less than 1 percent of the books were of a religious nature, indicating the general trend of declining religiosity.']\n"
     ]
    }
   ],
   "source": [
    "sent_text = nltk.tokenize.sent_tokenize(text=preprocessed_corpus[sample_index])\n",
    "\n",
    "print('Sentence tokenizer ({}):\\n'.format(sample_index))\n",
    "print(sent_text)"
   ]
  },
  {
   "cell_type": "markdown",
   "id": "2a71fc89-0850-4f0a-a0f7-dfc6c662530e",
   "metadata": {},
   "source": [
    "# Word embeddings"
   ]
  },
  {
   "cell_type": "code",
   "execution_count": 34,
   "id": "6cfb4e32-d52a-4f3a-8bc3-e3e50cfaf286",
   "metadata": {},
   "outputs": [
    {
     "data": {
      "text/plain": [
       "24"
      ]
     },
     "execution_count": 34,
     "metadata": {},
     "output_type": "execute_result"
    }
   ],
   "source": [
    "from gensim.models import Word2Vec\n",
    "model = Word2Vec(sentences=[word_text], window=5, min_count=1, workers=4, epochs=5, sg=0)"
   ]
  },
  {
   "cell_type": "markdown",
   "id": "8589dc9f-c503-465c-b3e9-37f4cbf526a9",
   "metadata": {},
   "source": [
    "# Sentence embeddings"
   ]
  },
  {
   "cell_type": "code",
   "execution_count": null,
   "id": "12c2120f-afa7-4fab-a819-156c7b196a6b",
   "metadata": {},
   "outputs": [],
   "source": [
    "sentence_transformer_model = SentenceTransformer('all-MiniLM-L6-v2')\n",
    "embeddings = sentence_transformer_model.encode(sent_text)\n",
    "print(embeddings.shape)"
   ]
  }
 ],
 "metadata": {
  "kernelspec": {
   "display_name": "Python 3 (ipykernel)",
   "language": "python",
   "name": "python3"
  },
  "language_info": {
   "codemirror_mode": {
    "name": "ipython",
    "version": 3
   },
   "file_extension": ".py",
   "mimetype": "text/x-python",
   "name": "python",
   "nbconvert_exporter": "python",
   "pygments_lexer": "ipython3",
   "version": "3.10.12"
  }
 },
 "nbformat": 4,
 "nbformat_minor": 5
}
